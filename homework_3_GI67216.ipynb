{
 "cells": [
  {
   "cell_type": "markdown",
   "id": "f7accf11",
   "metadata": {},
   "source": [
    "# GI67216 Jainam Maheshkumar Patel\n",
    "# Chapter 3 and 4 Homework \n",
    "\n",
    "\n",
    "#### Study Reference: NLTK book and geeks for geeks...."
   ]
  },
  {
   "cell_type": "markdown",
   "id": "4bbb383f",
   "metadata": {},
   "source": [
    "**1. Describe the class of strings matched by the following regular expressions:**\n",
    "- a. [a-zA-Z]+\n",
    "- b. [A-Z][a-z]* c. p[aeiou]{,2}t\n",
    "- d. \\d+(\\.\\d+)?\n",
    "- e. ([^aeiou][aeiou][^aeiou])*\n",
    "- f. \\w+|[^\\w\\s]+\n",
    "\n",
    "**Test your answers using nltk.re_show().**"
   ]
  },
  {
   "cell_type": "code",
   "execution_count": 20,
   "id": "939ece92",
   "metadata": {},
   "outputs": [
    {
     "name": "stdout",
     "output_type": "stream",
     "text": [
      "Regular Expression: [a-zA-Z]+\n",
      "{Hello} {World}\n",
      "{OpenAI}\n",
      "{JainaM}\n",
      "{PateL}\n",
      "{paoit}\n",
      "1.2.3.4.5.6\n",
      "{xyx}\n",
      "{A}$#{b}\n",
      "\n",
      "\n",
      "Regular Expression: [A-Z][a-z]*\n",
      "{Hello} {World}\n",
      "{Open}{A}{I}\n",
      "{Jaina}{M}\n",
      "{Pate}{L}\n",
      "paoit\n",
      "1.2.3.4.5.6\n",
      "xyx\n",
      "{A}$#b\n",
      "\n",
      "\n",
      "Regular Expression: p[aeiou]{,2}t\n",
      "Hello World\n",
      "OpenAI\n",
      "JainaM\n",
      "PateL\n",
      "paoit\n",
      "1.2.3.4.5.6\n",
      "xyx\n",
      "A$#b\n",
      "\n",
      "\n",
      "Regular Expression: \\d+(\\.\\d+)?\n",
      "Hello World\n",
      "OpenAI\n",
      "JainaM\n",
      "PateL\n",
      "paoit\n",
      "{1.2}.{3.4}.{5.6}\n",
      "xyx\n",
      "A$#b\n",
      "\n",
      "\n",
      "Regular Expression: ([^aeiou][aeiou][^aeiou])*\n",
      "{Hello Wor}{}l{}d{}\n",
      "{}O{pen}{}A{}I{}\n",
      "{}J{}a{}i{naM}{}\n",
      "{Pat}{}e{}L{}\n",
      "{}p{}a{}o{}i{}t{}\n",
      "{}1{}.{}2{}.{}3{}.{}4{}.{}5{}.{}6{}\n",
      "{}x{}y{}x{}\n",
      "{}A{}${}#{}b{}\n",
      "\n",
      "\n",
      "Regular Expression: \\w+|[^\\w\\s]+\n",
      "{Hello} {World}\n",
      "{OpenAI}\n",
      "{JainaM}\n",
      "{PateL}\n",
      "{paoit}\n",
      "{1}{.}{2}{.}{3}{.}{4}{.}{5}{.}{6}\n",
      "{xyx}\n",
      "{A}{$#}{b}\n",
      "\n",
      "\n"
     ]
    }
   ],
   "source": [
    "#answer\n",
    "\n",
    "import nltk\n",
    "\n",
    "# here i defined the regular expressions....\n",
    "regex_l = [\n",
    "    r'[a-zA-Z]+',              # a\n",
    "    r'[A-Z][a-z]*',            # b\n",
    "    r'p[aeiou]{,2}t',          # c\n",
    "    r'\\d+(\\.\\d+)?',            # d\n",
    "    r'([^aeiou][aeiou][^aeiou])*',  # e\n",
    "    r'\\w+|[^\\w\\s]+'            # f\n",
    "]\n",
    "\n",
    "# here i tested strings....\n",
    "test_s = [\n",
    "    \"Hello World\",\n",
    "    \"OpenAI\",\n",
    "    \"JainaM\",\n",
    "    \"PateL\",\n",
    "    \"paoit\",\n",
    "    \"1.2.3.4.5.6\",\n",
    "    \"xyx\",\n",
    "    \"A$#b\",\n",
    "]\n",
    "\n",
    "\n",
    "for regex in regex_l:\n",
    "    print(\"Regular Expression:\", regex)\n",
    "    for string in test_s:\n",
    "        nltk.re_show(regex, string)\n",
    "    print(\"\\n\")\n"
   ]
  },
  {
   "cell_type": "markdown",
   "id": "b53e5b37",
   "metadata": {},
   "source": [
    "**2. Write regular expressions to match the following classes of strings:**\n",
    "- a. A single determiner (assume that a, an, and the are the only determiners)\n",
    "- b. An arithmetic expression using integers, addition, and multiplication, such as\n",
    "2*3+8"
   ]
  },
  {
   "cell_type": "markdown",
   "id": "6b61215a",
   "metadata": {},
   "source": [
    "#### answer \n",
    "\n",
    "1. \\b(a|an|the)\\b\n",
    "- here this regular expression matches 'a', 'an', or 'the' as whole words (bounded by word boundaries \\b).\n",
    "\n",
    "2. \\d+(\\*\\d+|\\+\\d+)*\n",
    "\n",
    "- here is the explanation and elaboration of the expression:\n",
    "\n",
    "- \\d+ matches one or more digits (int).\n",
    "- (\\*\\d+|\\+\\d+)* matches zero or more occurrences of either:\n",
    "- \\*\\d+: multiplication operator followed by one or more digits.\n",
    "- |\\+\\d+: OR addition operator followed by one or more digits.\n",
    "\n",
    "- here this regular expression matches expressions like \"23+8\", \"5+6\", \"47+9*3\", etc.\n"
   ]
  },
  {
   "cell_type": "markdown",
   "id": "1d3c5d69",
   "metadata": {},
   "source": [
    "#### 3. Write a function unknown() that takes a URL as its argument, and returns a list of unknown words that occur on that web page. In order to do this, extract all substrings consisting of lowercase letters (using re.findall()) and remove any items from this set that occur in the Words Corpus (nltk.corpus.words). Try to categorize these words manually and discuss your findings."
   ]
  },
  {
   "cell_type": "code",
   "execution_count": 33,
   "id": "cf31c6cf",
   "metadata": {},
   "outputs": [
    {
     "name": "stdout",
     "output_type": "stream",
     "text": [
      "UNKNOWN words on the webpage\n",
      "\n",
      ":\n",
      "['programming', 'wikipedia', 'sidebar', 'pagecontentscurrent', 'eventsrandom', 'articleabout', 'wikipediacontact', 'usdonate', 'helplearn', 'editcommunity', 'portalrecent', 'changesupload', 'languages', 'tools', 'pages', 'editors', 'contributionstalk', 'sidebar', 'features', 'operations', 'examples', 'environments', 'implementations', 'implementations', 'implementations', 'compilers', 'languages', 'generators', 'influenced', 'references', 'programming', 'languages', 'hrvatskiidobahasa', 'lojban', 'bahasa', 'vosa', 'srpskisrpskohrvatski', 'articletalk', 'english', 'readeditview', 'tools', 'tools', 'sidebar', 'actions', 'readeditview', 'hererelated', 'changesupload', 'filespecial', 'pagespermanent', 'linkpage', 'informationcite', 'pageget', 'shortened', 'urldownload', 'qr', 'codewikidata', 'download', 'pdfprintable', 'projects', 'wikimedia', 'commonsmediawikiwikibookswikifunctionswikiquotewikiversity', 'wikipedia', 'programming', 'pythonparadigmmulti', 'oriented', 'reflectivedesigned', 'byguido', 'rossumdeveloperpython', 'software', 'foundationfirst', 'february', 'years', 'february', 'february', 'typing', 'disciplineduck', 'typing', 'annotations', 'hints', 'ignored', 'tools', 'oswindows', 'macos', 'linux', 'unix', 'platforms', 'licensepython', 'software', 'licensefilename', 'extensions', 'py', 'pyw', 'pyz', 'pyi', 'pyc', 'pydwebsitepython', 'orgmajor', 'implementationscpython', 'pypy', 'micropython', 'circuitpython', 'ironpython', 'jythondialectscython', 'rpython', 'starlark', 'influenced', 'byabc', 'ada', 'algol', 'apl', 'clu', 'dylan', 'haskell', 'modula', 'perl', 'ml', 'influencedapache', 'coffeescript', 'gdscript', 'javascript', 'julia', 'programming', 'wikibooks', 'programming', 'emphasizes', 'typed', 'supports', 'programming', 'paradigms', 'including', 'oriented', 'programming', 'described', 'batteries', 'guido', 'rossum', 'began', 'abc', 'programming', 'released', 'released', 'released', 'earlier', 'versions', 'released', 'ranks', 'programming', 'languages', 'has', 'gained', 'guido', 'rossum', 'oscon', 'conceived', 'guido', 'rossum', 'wiskunde', 'informatica', 'cwi', 'netherlands', 'abc', 'programming', 'setl', 'interfacing', 'began', 'december', 'rossum', 'july', 'announced', 'responsibilities', 'bestowed', 'january', 'developers', 'elected', 'released', 'october', 'features', 'comprehensions', 'detecting', 'unicode', 'released', 'december', 'features', 'backported', 'releases', 'automates', 'postponed', 'existing', 'patches', 'improvements', 'released', 'supported', 'issues', 'pypy', 'continues', 'backported', 'updates', 'updates', 'versions', 'including', 'issues', 'issues', 'released', 'announced', 'fixes', 'september', 'releases', 'october', 'versions', 'changes', 'increased', 'improved', 'reporting', 'adds', 'adds', 'keyword', 'releases', 'typing', 'keywords', 'statements', 'drops', 'modules', 'versions', 'claims', 'adds', 'has', 'improved', 'messages', 'changes', 'oldest', 'supported', 'features', 'multi', 'programming', 'oriented', 'programming', 'programming', 'supported', 'features', 'programming', 'oriented', 'programming', 'including', 'metaprogramming', 'metaobjects', 'paradigms', 'supported', 'extensions', 'including', 'programming', 'uses', 'typing', 'detecting', 'uses', 'binds', 'names', 'offers', 'programming', 'has', 'mapandreduce', 'functions', 'comprehensions', 'dictionaries', 'sets', 'expressions', 'has', 'modules', 'itertools', 'functools', 'tools', 'borrowed', 'haskell', 'ml', 'summarized', 'zen', 'includes', 'aphorisms', 'counts', 'modules', 'modularity', 'has', 'means', 'adding', 'programmable', 'interfaces', 'existing', 'applications', 'rossum', 'frustrations', 'abc', 'espoused', 'strives', 'cluttered', 'developers', 'coding', 'perl', 'embraces', 'alex', 'martelli', 'software', 'communities', 'shared', 'coding', 'principles', 'developers', 'patches', 'parts', 'cpython', 'increases', 'improved', 'functions', 'modules', 'languages', 'using', 'pypy', 'languages', 'doesn', 'expected', 'compiled', 'changed', 'developers', 'british', 'monty', 'approaches', 'tutorials', 'materials', 'terms', 'spam', 'eggs', 'monty', 'examples', 'has', 'meanings', 'idioms', 'minimalist', 'reads', 'programming', 'called', 'unpythonic', 'formatting', 'uses', 'english', 'keywords', 'languages', 'languages', 'brackets', 'blocks', 'semicolons', 'statements', 'allowed', 'has', 'fewer', 'exceptions', 'cases', 'pascal', 'uses', 'whitespace', 'brackets', 'keywords', 'blocks', 'statements', 'signifies', 'represents', 'termed', 'languages', 'has', 'recommended', 'spaces', 'statements', 'statements', 'using', 'equals', 'executes', 'elif', 'iterates', 'capturing', 'executes', 'allows', 'exceptions', 'clauses', 'groups', 'ensures', 'exits', 'specified', 'executes', 'attaches', 'namespace', 'oriented', 'programming', 'def', 'defines', 'encloses', 'acquiring', 'releasing', 'closing', 'allowing', 'initialization', 'raii', 'replacing', 'exits', 'skips', 'continues', 'del', 'removes', 'deleting', 'producing', 'referred', 'redefined', 'nop', 'needed', 'debugging', 'conditions', 'returns', 'coroutines', 'statements', 'modules', 'functions', 'variables', 'binds', 'allocated', 'variables', 'refers', 'called', 'typing', 'typed', 'languages', 'continuations', 'rossum', 'coroutine', 'generators', 'generators', 'iterators', 'passed', 'unidirectionally', 'passed', 'levels', 'expressions', 'expressions', 'operators', 'languages', 'differs', 'types', 'divisions', 'uses', 'uses', 'uses', 'duplicating', 'specified', 'libraries', 'numpy', 'called', 'introduced', 'assigns', 'values', 'variables', 'larger', 'compares', 'identities', 'comparisons', 'uses', 'boolean', 'operators', 'has', 'called', 'called', 'functions', 'implemented', 'using', 'expressions', 'expressions', 'operands', 'languages', 'makes', 'lists', 'tuples', 'lists', 'keys', 'dictionaries', 'keys', 'tuples', 'keys', 'dictionaries', 'tuple', 'elements', 'tuples', 'produces', 'tuple', 'containing', 'elements', 'executing', 'evaluates', 'yields', 'modifying', 'conforming', 'tuple', 'objects', 'tuples', 'contexts', 'features', 'unpacking', 'expressions', 'evaluating', 'etc', 'tuple', 'literals', 'expects', 'produces', 'values', 'expressions', 'iterated', 'assigns', 'values', 'has', 'functions', 'printf', 'strings', 'spam', 'eggs', 'evaluates', 'spam', 'eggs', 'supplemented', 'str', 'spam', 'eggs', 'strings', 'spam', 'eggs', 'spam', 'spam', 'eggs', 'eggs', 'strings', 'concatenated', 'adding', 'adding', 'integers', 'floats', 'spam', 'eggs', 'returns', 'spameggs', 'strings', 'numbers', 'strings', 'integers', 'returns', 'has', 'literals', 'delimited', 'quotes', 'unix', 'shells', 'perl', 'perl', 'influenced', 'languages', 'quotes', 'backslash', 'became', 'formatted', 'literals', 'quoted', 'quotes', 'lines', 'documents', 'shells', 'perl', 'varieties', 'denoted', 'prefixing', 'sequences', 'interpreted', 'strings', 'backslashes', 'expressions', 'windows', 'paths', 'quoting', 'has', 'expressions', 'lists', 'denoted', 'indexes', 'indexes', 'slices', 'elements', 'including', 'called', 'allows', 'elements', 'skipped', 'indexes', 'omitted', 'returns', 'expressions', 'statements', 'languages', 'leads', 'duplicating', 'comprehensions', 'vs', 'loops', 'expressions', 'vs', 'blocks', 'eval', 'vs', 'exec', 'functions', 'exec', 'expressions', 'statements', 'statements', 'comprehensions', 'expressions', 'expressions', 'statements', 'has', 'avoiding', 'conditions', 'causes', 'methods', 'methods', 'objects', 'functions', 'methods', 'functions', 'methods', 'oriented', 'programming', 'languages', 'java', 'provides', 'methods', 'called', 'methods', 'names', 'underscores', 'operations', 'including', 'operations', 'typing', 'uses', 'typing', 'has', 'typed', 'objects', 'untyped', 'names', 'constraints', 'operations', 'signifying', 'typed', 'typed', 'operations', 'adding', 'attempting', 'allows', 'programmers', 'types', 'using', 'oriented', 'programming', 'instances', 'constructed', 'spamclass', 'eggsclass', 'instances', 'metaclass', 'allowing', 'metaprogramming', 'kinds', 'using', 'versions', 'supports', 'annotations', 'annotations', 'tools', 'mypy', 'errors', 'mypy', 'supports', 'called', 'mypyc', 'leverages', 'annotations', 'types', 'examples', 'boolean', 'truefalse', 'bytearray', 'bytes', 'bytearray', 'bytearray', 'bytearray', 'bytes', 'bytes', 'bytes', 'parts', 'dict', 'pairs', 'types', 'keys', 'values', 'keys', 'hashable', 'types', 'ellipsistype', 'placeholder', 'numpy', 'arrays', 'implemented', 'ieee', 'bits', 'frozenset', 'contains', 'duplicates', 'types', 'hashable', 'frozenset', 'int', 'types', 'types', 'nonetype', 'representing', 'called', 'languages', 'types', 'notimplementedtype', 'placeholder', 'overloaded', 'operators', 'types', 'notimplemented', 'numbers', 'loops', 'contains', 'duplicates', 'types', 'hashable', 'str', 'unicode', 'codepoints', 'wikipedia', 'wikipedia', 'spanning', 'lines', 'spanning', 'lines', 'tuple', 'types', 'operations', 'has', 'symbols', 'operators', 'has', 'operators', 'rules', 'operators', 'numbers', 'integers', 'produces', 'results', 'has', 'changed', 'changed', 'introduced', 'adding', 'causes', 'rules', 'terms', 'languages', 'adds', 'means', 'means', 'values', 'maintaining', 'means', 'expected', 'has', 'provides', 'uses', 'versions', 'allows', 'boolean', 'expressions', 'relations', 'tests', 'languages', 'compared', 'uses', 'operations', 'provides', 'numbers', 'pre', 'modes', 'fractions', 'provides', 'numbers', 'numpy', 'extends', 'capabilities', 'scripting', 'problems', 'processing', 'programming', 'examples', 'int', 'valueerror', 'libraries', 'provides', 'tools', 'suited', 'tasks', 'cited', 'greatest', 'strengths', 'internet', 'applications', 'formats', 'protocols', 'http', 'supported', 'includes', 'modules', 'creating', 'interfaces', 'connecting', 'databases', 'pseudorandom', 'numbers', 'decimals', 'manipulating', 'expressions', 'parts', 'specifications', 'wsgi', 'wsgiref', 'follows', 'specified', 'suites', 'modules', 'altering', 'rewriting', 'implementations', 'november', 'pypi', 'software', 'contains', 'packages', 'including', 'automation', 'databases', 'interfaces', 'processing', 'apps', 'multimedia', 'networking', 'computing', 'frameworks', 'processing', 'frameworks', 'environments', 'integrated', 'environments', 'implementations', 'including', 'cpython', 'eval', 'repl', 'permitting', 'users', 'statements', 'results', 'integrated', 'called', 'oriented', 'shells', 'including', 'ipython', 'abilities', 'improved', 'highlighting', 'desktop', 'integrated', 'environments', 'including', 'pycharm', 'intellij', 'etc', 'including', 'sagemath', 'developing', 'programs', 'pythonanywhere', 'emphasizing', 'computing', 'implementations', 'software', 'implementations', 'cpython', 'uses', 'features', 'cpython', 'includes', 'extensions', 'extensions', 'versions', 'implemented', 'compiles', 'programs', 'bytecode', 'cpython', 'platforms', 'including', 'windows', 'fails', 'windows', 'windows', 'xp', 'supported', 'unix', 'systems', 'including', 'macos', 'macs', 'vms', 'earliest', 'priorities', 'solaris', 'supported', 'has', 'dropped', 'platforms', 'implementations', 'pypy', 'brings', 'cpython', 'libraries', 'cpython', 'implements', 'microthreads', 'allowing', 'programs', 'pypy', 'has', 'micropython', 'circuitpython', 'variants', 'optimized', 'microcontrollers', 'including', 'lego', 'mindstorms', 'pyston', 'runtime', 'uses', 'programs', 'oriented', 'cpython', 'contains', 'optimizations', 'including', 'bytecode', 'inline', 'caching', 'coroutines', 'jit', 'bytecode', 'snek', 'embedded', 'computing', 'avr', 'microcontrollers', 'atmega', 'arduino', 'larger', 'ones', 'micropython', 'snek', 'programs', 'programs', 'snek', 'including', 'oop', 'simplifying', 'javascript', 'using', 'values', 'bits', 'represented', 'values', 'implementations', 'compilers', 'developed', 'google', 'began', 'named', 'using', 'llvm', 'multithreading', 'thousands', 'cores', 'implementations', 'psyco', 'discontinued', 'specializing', 'integrates', 'cpython', 'transforms', 'bytecode', 'runtime', 'emitted', 'types', 'psyco', 'phones', 'released', 'nokia', 'implemented', 'modules', 'modules', 'integrating', 'symbian', 'nokia', 'supports', 'gtk', 'widget', 'libraries', 'enabling', 'programs', 'compilers', 'languages', 'compilers', 'transpilers', 'languages', 'brython', 'transcrypt', 'pyjs', 'javascript', 'compiles', 'typed', 'llvm', 'supports', 'multithreading', 'cython', 'compiles', 'superset', 'api', 'calls', 'pyjl', 'compiles', 'transpiles', 'julia', 'claiming', 'changed', 'cases', 'speedup', 'changes', 'julia', 'compiled', 'nuitka', 'compiles', 'numba', 'uses', 'llvm', 'pythran', 'compiles', 'rpython', 'compiled', 'pypy', 'transpiler', 'compiles', 'myhdl', 'hdl', 'converts', 'myhdl', 'verilog', 'vhdl', 'projects', 'google', 'transpiles', 'ironpython', 'allows', 'programs', 'released', 'features', 'behaviors', 'versions', 'runtime', 'jython', 'compiles', 'java', 'bytecode', 'allowing', 'java', 'libraries', 'implementations', 'workload', 'presented', 'euroscipy', 'compared', 'programming', 'languages', 'benchmarked', 'benchmarks', 'conducted', 'proposing', 'features', 'collecting', 'issues', 'documenting', 'decisions', 'coding', 'peps', 'reviewed', 'commented', 'corresponds', 'cpython', 'mailing', 'issues', 'discussed', 'hosted', 'issues', 'discussions', 'migrated', 'github', 'hosted', 'moved', 'github', 'january', 'cpython', 'releases', 'types', 'incremented', 'versions', 'expected', 'incremented', 'releases', 'released', 'years', 'guido', 'rossum', 'releases', 'features', 'incremented', 'releases', 'expected', 'supported', 'fixes', 'years', 'bugfix', 'releases', 'features', 'months', 'bugs', 'vulnerabilities', 'patched', 'releases', 'incremented', 'candidates', 'released', 'previews', 'releases', 'delayed', 'monitors', 'pycon', 'mentoring', 'programs', 'pyladies', 'wstr', 'extensions', 'modified', 'dropped', 'modules', 'dropped', 'deprecated', 'deprecated', 'deprecationwarning', 'ctypes', 'deprecated', 'http', 'cgihttprequesthandler', 'deprecationwarning', 'using', 'has', 'bugs', 'parts', 'typing', 'deprecated', 'creating', 'typing', 'namedtuple', 'using', 'keyword', 'arguments', 'fields', 'disallowed', 'api', 'generators', 'tools', 'api', 'pydoc', 'pdoc', 'forks', 'doxygen', 'graphviz', 'others', 'british', 'monty', 'guido', 'rossum', 'enjoyed', 'developing', 'monty', 'references', 'metasyntactic', 'variables', 'spam', 'eggs', 'contains', 'references', 'monty', 'routines', 'users', 'referred', 'pythonistas', 'py', 'examples', 'names', 'applications', 'libraries', 'pygame', 'sdl', 'games', 'pyqt', 'pygtk', 'qt', 'gtk', 'pypy', 'has', 'programming', 'languages', 'tiobe', 'programming', 'december', 'java', 'programming', 'ratings', 'scripting', 'languages', 'languages', 'java', 'programming', 'problems', 'involving', 'java', 'organizations', 'wikipedia', 'google', 'nasa', 'facebook', 'amazon', 'instagram', 'spotify', 'entities', 'ilm', 'ita', 'networking', 'reddit', 'uses', 'software', 'scripting', 'applications', 'webserver', 'api', 'has', 'evolved', 'applications', 'frameworks', 'django', 'pylons', 'turbogears', 'zope', 'developers', 'applications', 'pyjs', 'ironpython', 'ajax', 'applications', 'sqlalchemy', 'database', 'communications', 'computers', 'dropbox', 'libraries', 'numpy', 'scipy', 'matplotlib', 'computing', 'libraries', 'biopython', 'astropy', 'sagemath', 'programmable', 'covers', 'aspects', 'including', 'combinatorics', 'opencv', 'has', 'bindings', 'features', 'processing', 'projects', 'projects', 'libraries', 'tensorflow', 'keras', 'pytorch', 'scikit', 'scripting', 'processing', 'tools', 'processing', 'gui', 'using', 'libraries', 'tkinter', 'games', 'libraries', 'pygame', 'games', 'has', 'embedded', 'software', 'products', 'scripting', 'including', 'software', 'abaqus', 'modelers', 'freecad', 'packages', 'max', 'lightwave', 'houdini', 'modo', 'motionbuilder', 'softimage', 'imaging', 'programs', 'inkscape', 'scribus', 'programs', 'scorewriter', 'capella', 'debugger', 'uses', 'structures', 'containers', 'esri', 'promotes', 'scripts', 'arcgis', 'has', 'games', 'has', 'programming', 'languages', 'google', 'app', 'java', 'systems', 'ships', 'linux', 'distributions', 'amigaos', 'using', 'freebsd', 'netbsd', 'openbsd', 'linux', 'distributions', 'installers', 'ubuntu', 'uses', 'linux', 'fedora', 'linux', 'gentoo', 'linux', 'uses', 'including', 'software', 'laptop', 'xo', 'developed', 'labs', 'has', 'programming', 'libreoffice', 'includes', 'intends', 'java', 'scripting', 'february', 'languages', 'influenced', 'influenced', 'programming', 'languages', 'uses', 'uses', 'acknowledgements', 'lists', 'languages', 'influenced', 'coffeescript', 'programming', 'compiles', 'javascript', 'has', 'ecmascript', 'javascript', 'borrowed', 'iterators', 'generators', 'gdscript', 'scripting', 'godot', 'shares', 'arrays', 'motivated', 'java', 'julia', 'programming', 'aims', 'superset', 'adding', 'struct', 'needed', 'mandelbrot', 'typing', 'helps', 'mlir', 'implemented', 'uses', 'yukihiro', 'matsumoto', 'has', 'wanted', 'scripting', 'perl', 'oriented', 'programming', 'developed', 'has', 'practices', 'emulated', 'languages', 'requiring', 'describing', 'issues', 'tcl', 'erlang', 'programming', 'portalfree', 'software', 'programming', 'languages', 'programming', 'languages', 'programming', 'languages', 'references', 'faq', 'docs', 'org', 'archived', 'october', 'retrieved', 'sources', 'archives', 'archived', 'retrieved', 'typed', 'wiki', 'archived', 'retrieved', 'january', 'hints', 'org', 'archived', 'retrieved', 'tests', 'docs', 'org', 'archived', 'retrieved', 'identifying', 'docs', 'org', 'archived', 'retrieved', 'download', 'platforms', 'org', 'retrieved', 'holth', 'moore', 'archived', 'december', 'retrieved', 'november', 'starlark', 'archived', 'retrieved', 'created', 'faq', 'software', 'archived', 'october', 'retrieved', 'implementing', 'interpreted', 'abc', 'cwi', 'features', 'including', 'types', 'details', 'ada', 'archived', 'october', 'retrieved', 'january', 'kuchling', 'andrew', 'december', 'guido', 'rossum', 'july', 'amk', 'archived', 'retrieved', 'dec', 'systems', 'introduced', 'modula', 'modula', 'showed', 'modules', 'methods', 'algol', 'itertools', 'functions', 'creating', 'iterators', 'docs', 'org', 'archived', 'retrieved', 'november', 'implements', 'iterator', 'blocks', 'constructs', 'apl', 'haskell', 'sml', 'rossum', 'guido', 'unix', 'programmers', 'proceedings', 'nluug', 'najaarsconferentie', 'unix', 'users', 'citeseerx', 'software', 'archived', 'october', 'retrieved', 'february', 'mechanisms', 'modula', 'lundh', 'fredrik', 'effbot', 'org', 'archived', 'november', 'retrieved', 'november', 'clu', 'simionato', 'michele', 'software', 'archived', 'retrieved', 'july', 'has', 'invented', 'dylan', 'described', 'lispers', 'kuchling', 'programming', 'howto', 'software', 'archived', 'october', 'retrieved', 'february', 'comprehensions', 'expressions', 'operations', 'borrowed', 'programming', 'haskell', 'schemenauer', 'neil', 'peters', 'tim', 'hetland', 'magnus', 'generators', 'proposals', 'software', 'archived', 'retrieved', 'february', 'tools', 'software', 'archived', 'retrieved', 'july', 'features', 'programming', 'languages', 'keyword', 'functions', 'created', 'operations', 'docs', 'org', 'archived', 'july', 'retrieved', 'september', 'provides', 'operations', 'perl', 'coffeescript', 'coffeescript', 'org', 'archived', 'retrieved', 'july', 'programming', 'archived', 'retrieved', 'february', 'perl', 'influences', 'javascript', 'www', 'com', 'february', 'archived', 'december', 'retrieved', 'rauschmayer', 'axel', 'javascript', 'influences', 'reilly', 'javascript', 'archived', 'december', 'retrieved', 'created', 'julia', 'julia', 'website', 'february', 'archived', 'retrieved', 'programming', 'krill', 'paul', 'marries', 'mlir', 'infoworld', 'archived', 'retrieved', 'december', 'languages', 'lang', 'lang', 'archived', 'december', 'retrieved', 'december', 'bini', 'ola', 'jruby', 'rails', 'projects', 'bringing', 'rails', 'java', 'berkeley', 'apress', 'isbn', 'lattner', 'chris', 'chris', 'lattner', 'homepage', 'chris', 'lattner', 'archived', 'december', 'retrieved', 'experts', 'gurus', 'ninjas', 'dogfooding', 'ideas', 'benefited', 'experiences', 'languages', 'ideas', 'haskell', 'clu', 'others', 'kuhlman', 'dave', 'exercises', 'archived', 'pdf', 'software', 'archived', 'april', 'retrieved', 'april', 'fans', 'batteries', 'covers', 'processing', 'files', 'org', 'archived', 'retrieved', 'october', 'rossum', 'guido', 'january', 'timeline', 'archived', 'retrieved', 'peterson', 'april', 'archived', 'april', 'retrieved', 'april', 'archived', 'retrieved', 'infographic', 'jetbrains', 'tools', 'professionals', 'teams', 'archived', 'retrieved', 'tiobe', 'tiobe', 'archived', 'february', 'retrieved', 'january', 'tiobe', 'programming', 'programming', 'languages', 'updated', 'required', 'pypl', 'programming', 'pypl', 'github', 'archived', 'retrieved', 'venners', 'january', 'artima', 'artima', 'archived', 'september', 'retrieved', 'rossum', 'guido', 'setl', 'literals', 'mailing', 'archived', 'july', 'retrieved', 'rossum', 'guido', 'january', 'timeline', 'archived', 'retrieved', 'january', 'fairchild', 'july', 'guido', 'rossum', 'linux', 'archived', 'july', 'retrieved', 'july', 'software', 'archived', 'retrieved', 'org', 'archived', 'retrieved', 'kuchling', 'zadka', 'moshe', 'october', 'software', 'archived', 'october', 'retrieved', 'february', 'rossum', 'guido', 'april', 'proposals', 'software', 'archived', 'retrieved', 'automated', 'docs', 'org', 'archived', 'retrieved', 'february', 'org', 'archived', 'retrieved', 'january', 'enhancements', 'org', 'archived', 'retrieved', 'january', 'org', 'archived', 'january', 'retrieved', 'september', 'org', 'archived', 'january', 'retrieved', 'september', 'org', 'retrieved', 'mattip', 'december', 'pypy', 'pypy', 'retrieved', 'january', 'redhat', 'com', 'archived', 'retrieved', 'february', 'cve', 'cve', 'cve', 'org', 'archived', 'february', 'retrieved', 'february', 'cve', 'cve', 'cve', 'org', 'archived', 'february', 'retrieved', 'february', 'langa', 'archived', 'april', 'retrieved', 'april', 'langa', 'archived', 'april', 'retrieved', 'april', 'langa', 'archived', 'retrieved', 'releases', 'pythoninsider', 'blogspot', 'com', 'september', 'archived', 'september', 'retrieved', 'september', 'cve', 'cve', 'cve', 'org', 'archived', 'september', 'retrieved', 'september', 'corbet', 'october', 'released', 'lwn', 'lwn', 'retrieved', 'november', 'endoflife', 'retrieved', 'ltd', 'metaclasses', 'pdf', 'archived', 'pdf', 'retrieved', 'names', 'software', 'archived', 'december', 'retrieved', 'pydbc', 'preconditions', 'postconditions', 'invariants', 'archived', 'november', 'retrieved', 'september', 'contracts', 'archived', 'retrieved', 'september', 'pydatalog', 'archived', 'retrieved', 'july', 'embedding', 'counts', 'docs', 'org', 'archived', 'october', 'retrieved', 'makes', 'malloc', 'leaks', 'called', 'hettinger', 'raymond', 'january', 'expressions', 'proposals', 'software', 'archived', 'retrieved', 'february', 'itertools', 'functions', 'creating', 'iterators', 'docs', 'org', 'archived', 'retrieved', 'november', 'peters', 'tim', 'zen', 'proposals', 'software', 'archived', 'december', 'retrieved', 'november', 'martelli', 'alex', 'ravenscroft', 'ascher', 'david', 'reilly', 'isbn', 'archived', 'february', 'retrieved', 'november', 'ebeab', 'january', 'archived', 'january', 'transpiling', 'julia', 'using', 'pyjl', 'pdf', 'modifying', 'specifying', 'obtained', 'speedup', 'translated', 'julia', 'called', 'faq', 'docs', 'org', 'archived', 'october', 'retrieved', 'january', 'archived', 'retrieved', 'july', 'pprint', 'docs', 'org', 'archived', 'january', 'retrieved', 'november', 'spam', 'eggs', 'knights', 'robert', 'april', 'archived', 'retrieved', 'january', 'docs', 'org', 'archived', 'january', 'retrieved', 'january', 'programmers', 'faq', 'software', 'archived', 'october', 'retrieved', 'myths', 'secnetix', 'archived', 'february', 'retrieved', 'april', 'guttag', 'john', 'programming', 'using', 'mit', 'isbn', 'org', 'archived', 'april', 'retrieved', 'errors', 'exceptions', 'docs', 'org', 'archived', 'retrieved', 'highlights', 'org', 'archived', 'retrieved', 'rossum', 'guido', 'april', 'neopythonic', 'blogspot', 'archived', 'retrieved', 'december', 'rossum', 'guido', 'february', 'solving', 'puzzles', 'artima', 'forums', 'artima', 'archived', 'january', 'retrieved', 'rossum', 'guido', 'eby', 'phillip', 'coroutines', 'generators', 'proposals', 'software', 'archived', 'retrieved', 'february', 'org', 'archived', 'retrieved', 'december', 'org', 'archived', 'july', 'retrieved', 'july', 'dedicated', 'org', 'archived', 'retrieved', 'january', 'changelog', 'org', 'archived', 'retrieved', 'january', 'archived', 'retrieved', 'october', 'rossum', 'guido', 'hettinger', 'raymond', 'february', 'expressions', 'proposals', 'software', 'archived', 'retrieved', 'july', 'types', 'org', 'archived', 'retrieved', 'october', 'tuples', 'sequences', 'org', 'archived', 'retrieved', 'october', 'org', 'archived', 'retrieved', 'definitions', 'calls', 'faq', 'software', 'archived', 'october', 'retrieved', 'february', 'sweigart', 'practices', 'isbn', 'archived', 'retrieved', 'july', 'archived', 'october', 'retrieved', 'january', 'hints', 'peps', 'org', 'peps', 'org', 'retrieved', 'november', 'typing', 'hints', 'software', 'retrieved', 'december', 'mypy', 'typing', 'archived', 'retrieved', 'january', 'mypyc', 'readthedocs', 'retrieved', 'december', 'issues', 'limitations', 'docs', 'org', 'archived', 'retrieved', 'machines', 'november', 'ieee', 'platforms', 'floats', 'ieee', 'zadka', 'moshe', 'rossum', 'guido', 'unifying', 'integers', 'integers', 'proposals', 'software', 'archived', 'retrieved', 'september', 'types', 'archived', 'retrieved', 'october', 'dedicated', 'org', 'archived', 'retrieved', 'july', 'zadka', 'moshe', 'rossum', 'guido', 'changing', 'proposals', 'software', 'archived', 'retrieved', 'october', 'floors', 'archived', 'retrieved', 'functions', 'archived', 'october', 'retrieved', 'functions', 'archived', 'october', 'retrieved', 'beazley', 'david', 'ed', 'addison', 'wesley', 'isbn', 'kernighan', 'brian', 'ritchie', 'dennis', 'programming', 'ed', 'batista', 'facundo', 'october', 'proposals', 'software', 'archived', 'retrieved', 'november', 'october', 'archived', 'december', 'retrieved', 'september', 'reasons', 'rocks', 'reasons', 'doesn', 'hoyt', 'koepke', 'washington', 'archived', 'retrieved', 'february', 'scott', 'computing', 'pdf', 'archived', 'pdf', 'february', 'retrieved', 'february', 'piotrowski', 'przemyslaw', 'july', 'pages', 'archived', 'april', 'retrieved', 'eby', 'phillip', 'december', 'proposals', 'software', 'archived', 'retrieved', 'february', 'modulecounts', 'modulecounts', 'november', 'archived', 'enthought', 'www', 'enthought', 'com', 'archived', 'july', 'retrieved', 'peps', 'org', 'peps', 'org', 'archived', 'april', 'retrieved', 'april', 'extensions', 'docs', 'org', 'archived', 'retrieved', 'rossum', 'guido', 'proposals', 'software', 'archived', 'retrieved', 'november', 'cpython', 'byte', 'docs', 'org', 'archived', 'retrieved', 'february', 'pdf', 'archived', 'pdf', 'retrieved', 'april', 'changelog', 'docs', 'org', 'archived', 'february', 'retrieved', 'february', 'download', 'org', 'archived', 'december', 'retrieved', 'december', 'vmspython', 'www', 'vmspython', 'org', 'archived', 'december', 'retrieved', 'december', 'guido', 'rossum', 'oreilly', 'com', 'archived', 'july', 'retrieved', 'november', 'download', 'platforms', 'org', 'archived', 'november', 'retrieved', 'december', 'pypy', 'pypy', 'org', 'archived', 'retrieved', 'december', 'pypy', 'december', 'download', 'pypy', 'archived', 'january', 'retrieved', 'january', 'cpython', 'pypy', 'pypy', 'org', 'archived', 'retrieved', 'december', 'features', 'pypy', 'pypy', 'org', 'archived', 'retrieved', 'july', 'lego', 'archived', 'retrieved', 'april', 'yegulalp', 'serdar', 'october', 'pyston', 'returns', 'infoworld', 'archived', 'january', 'retrieved', 'january', 'instagram', 'oriented', 'cpython', 'github', 'archived', 'retrieved', 'aroca', 'rafael', 'snek', 'lang', 'feels', 'arduinos', 'blog', 'retrieved', 'january', 'aufranc', 'cnxsoft', 'luc', 'january', 'snekboard', 'controls', 'lego', 'functions', 'circuitpython', 'snek', 'programming', 'languages', 'crowdfunding', 'cnx', 'software', 'cnx', 'software', 'embedded', 'systems', 'retrieved', 'january', 'kennedy', 'mkennedy', 'michael', 'pythonbytes', 'fm', 'retrieved', 'january', 'packard', 'keith', 'december', 'snek', 'programming', 'embedded', 'computing', 'pdf', 'plans', 'optimizing', 'google', 'december', 'archived', 'april', 'retrieved', 'september', 'nokia', 'april', 'archived', 'retrieved', 'july', 'brython', 'brython', 'info', 'archived', 'retrieved', 'january', 'transcrypt', 'transcrypt', 'org', 'archived', 'retrieved', 'december', 'transcrypt', 'javascript', 'infoq', 'archived', 'december', 'retrieved', 'january', 'differences', 'archived', 'retrieved', 'lawson', 'loraine', 'mit', 'created', 'speeds', 'archived', 'april', 'retrieved', 'nuitka', 'nuitka', 'nuitka', 'archived', 'retrieved', 'guelton', 'pierrick', 'mehdi', 'merlini', 'adrien', 'corbillon', 'xavier', 'raynaud', 'pythran', 'enabling', 'programs', 'iop', 'publishing', 'bibcode', 'doi', 'issn', 'transpiler', 'archived', 'september', 'retrieved', 'july', 'google', 'april', 'archived', 'april', 'retrieved', 'github', 'projects', 'opensource', 'google', 'archived', 'april', 'retrieved', 'francisco', 'thomas', 'claburn', 'google', 'makes', 'www', 'theregister', 'com', 'archived', 'retrieved', 'january', 'github', 'ironlanguages', 'runtime', 'github', 'archived', 'september', 'ironpython', 'ironpython', 'archived', 'april', 'jython', 'faq', 'www', 'jython', 'org', 'archived', 'april', 'retrieved', 'april', 'murri', 'riccardo', 'runtimes', 'numeric', 'european', 'euroscipy', 'arxiv', 'bibcode', 'benchmarks', 'archived', 'retrieved', 'april', 'hylton', 'jeremy', 'goodger', 'david', 'guidelines', 'proposals', 'software', 'archived', 'retrieved', 'april', 'org', 'archived', 'april', 'retrieved', 'guido', 'guys', 'mailing', 'developed', 'org', 'software', 'archived', 'retrieved', 'bugs', 'github', 'lwn', 'archived', 'october', 'retrieved', 'october', 'devguide', 'org', 'archived', 'november', 'retrieved', 'december', 'hughes', 'owen', 'programming', 'languages', 'techrepublic', 'archived', 'july', 'retrieved', 'org', 'archived', 'retrieved', 'november', 'changing', 'lwn', 'lwn', 'archived', 'november', 'retrieved', 'november', 'norwitz', 'april', 'schedules', 'archived', 'december', 'retrieved', 'aahz', 'anthony', 'releases', 'proposals', 'software', 'archived', 'retrieved', 'buildbot', 'software', 'archived', 'retrieved', 'september', 'docs', 'org', 'archived', 'retrieved', 'february', 'wstr', 'unicode', 'org', 'archived', 'retrieved', 'february', 'org', 'archived', 'retrieved', 'february', 'tools', 'org', 'archived', 'november', 'retrieved', 'whetting', 'software', 'archived', 'october', 'retrieved', 'february', 'february', 'archived', 'retrieved', 'lutz', 'oriented', 'programming', 'reilly', 'inc', 'isbn', 'archived', 'july', 'retrieved', 'fehily', 'chris', 'peachpit', 'xv', 'isbn', 'archived', 'july', 'retrieved', 'lubanovic', 'introducing', 'sebastopol', 'reilly', 'isbn', 'retrieved', 'july', 'january', 'tiobe', 'january', 'seniordba', 'archived', 'retrieved', 'february', 'prechelt', 'lutz', 'java', 'perl', 'rexx', 'tcl', 'pdf', 'archived', 'pdf', 'january', 'retrieved', 'quotes', 'software', 'archived', 'retrieved', 'january', 'organizations', 'using', 'software', 'archived', 'retrieved', 'january', 'programming', 'publications', 'july', 'archived', 'january', 'retrieved', 'february', 'shafer', 'daniel', 'january', 'streamlines', 'software', 'archived', 'retrieved', 'november', 'facebook', 'facebook', 'developers', 'facebook', 'developers', 'archived', 'february', 'retrieved', 'powers', 'instagram', 'hundreds', 'instances', 'dozens', 'technologies', 'instagram', 'december', 'archived', 'retrieved', 'spotify', 'spotify', 'labs', 'archived', 'retrieved', 'july', 'fortenberry', 'tim', 'january', 'runs', 'software', 'archived', 'retrieved', 'february', 'darryl', 'systems', 'eweek', 'com', 'ziff', 'davis', 'holdings', 'archived', 'retrieved', 'september', 'github', 'reddit', 'reddit', 'reddit', 'com', 'reddit', 'archives', 'archived', 'retrieved', 'websites', 'archived', 'retrieved', 'december', 'computing', 'computing', 'bibcode', 'citeseerx', 'doi', 'mcse', 'archived', 'retrieved', 'april', 'jarrod', 'aivazis', 'michael', 'scientists', 'engineers', 'computing', 'bibcode', 'doi', 'mcse', 'archived', 'february', 'retrieved', 'july', 'sagemath', 'computing', 'archived', 'retrieved', 'april', 'opencv', 'opencv', 'tutorials', 'docs', 'opencv', 'org', 'archived', 'september', 'retrieved', 'september', 'monga', 'rajat', 'et', 'november', 'tensorflow', 'systems', 'pdf', 'tensorflow', 'org', 'google', 'archived', 'pdf', 'november', 'retrieved', 'november', 'piatetsky', 'gregory', 'software', 'trends', 'kdnuggets', 'archived', 'november', 'retrieved', 'using', 'scikit', 'scikit', 'scikit', 'org', 'archived', 'retrieved', 'november', 'jouppi', 'google', 'supercharges', 'tasks', 'tpu', 'google', 'blog', 'archived', 'retrieved', 'toolkit', 'nltk', 'www', 'nltk', 'org', 'archived', 'retrieved', 'april', 'tkinter', 'tcl', 'tk', 'archived', 'october', 'retrieved', 'tkinter', 'archived', 'retrieved', 'installers', 'windows', 'asked', 'questions', 'july', 'archived', 'july', 'retrieved', 'july', 'jasc', 'archived', 'started', 'geoprocessing', 'scripts', 'arcgis', 'desktop', 'systems', 'november', 'archived', 'retrieved', 'february', 'ccp', 'porkbelly', 'blogs', 'ccp', 'games', 'archived', 'january', 'retrieved', 'january', 'has', 'programming', 'caudill', 'september', 'modding', 'sid', 'meier', 'iv', 'sid', 'meier', 'iv', 'blog', 'firaxis', 'games', 'archived', 'december', 'created', 'levels', 'tools', 'offers', 'xml', 'letting', 'modders', 'google', 'documents', 'api', 'archived', 'july', 'software', 'archived', 'retrieved', 'january', 'archived', 'february', 'archived', 'retrieved', 'april', 'labs', 'archived', 'january', 'retrieved', 'february', 'features', 'fixes', 'libreoffice', 'org', 'archived', 'february', 'retrieved', 'february', 'gotchas', 'users', 'codehaus', 'org', 'codehaus', 'archived', 'december', 'retrieved', 'november', 'esterbrook', 'charles', 'acknowledgements', 'com', 'archived', 'february', 'retrieved', 'april', 'proposals', 'iterators', 'generators', 'wiki', 'wiki', 'ecmascript', 'org', 'archived', 'october', 'retrieved', 'november', 'asked', 'questions', 'godot', 'archived', 'april', 'retrieved', 'kincaid', 'jason', 'november', 'google', 'programming', 'meets', 'techcrunch', 'archived', 'january', 'retrieved', 'january', 'strachan', 'james', 'java', 'archived', 'april', 'retrieved', 'docs', 'docs', 'com', 'archived', 'retrieved', 'simplifies', 'efforts', 'specified', 'superset', 'existing', 'programs', 'cpython', 'tools', 'developing', 'systems', 'things', 'falls', 'michael', 'programming', 'datasciencelearningcenter', 'substack', 'com', 'archived', 'retrieved', 'yegulalp', 'serdar', 'january', 'draws', 'infoworld', 'archived', 'october', 'retrieved', 'uses', 'blocks', 'elif', 'blocks', 'constructed', 'linuxdevcenter', 'com', 'archived', 'april', 'retrieved', 'december', 'lattner', 'chris', 'chris', 'lattner', 'homepage', 'chris', 'lattner', 'archived', 'december', 'retrieved', 'started', 'programming', 'july', 'implemented', 'started', 'contributing', 'became', 'tools', 'july', 'ideas', 'haskell', 'clu', 'others', 'kupries', 'andreas', 'fellows', 'donal', 'september', 'tcl', 'tk', 'tcl', 'xchange', 'archived', 'july', 'retrieved', 'november', 'gustafsson', 'niskanen', 'raimo', 'january', 'eep', 'eep', 'guidelines', 'erlang', 'org', 'archived', 'retrieved', 'april', 'programming', 'github', 'february', 'archived', 'april', 'retrieved', 'april', 'sources', 'wiki', 'july', 'archived', 'november', 'retrieved', 'december', 'paine', 'jocelyn', 'ed', 'amzi', 'archived', 'retrieved', 'february', 'pyaiml', 'pypi', 'org', 'retrieved', 'july', 'russell', 'stuart', 'norvig', 'ed', 'nj', 'isbn', 'downey', 'allen', 'ed', 'cambridge', 'isbn', 'hamilton', 'naomi', 'programming', 'languages', 'computerworld', 'archived', 'december', 'retrieved', 'lutz', 'ed', 'reilly', 'isbn', 'summerfield', 'programming', 'ed', 'addison', 'wesley', 'isbn', 'ramalho', 'luciano', 'reilly', 'isbn', 'wikipedia', 'projects', 'commonsquotations', 'wikiquotetextbooks', 'wikibooksresources', 'wikiversitydata', 'wikidata', 'website', 'vtepythonimplementations', 'circuitpython', 'clpython', 'cpython', 'cython', 'micropython', 'numba', 'ironpython', 'jython', 'psyco', 'pypy', 'pycharm', 'pydev', 'ninja', 'topics', 'wsgi', 'asgi', 'software', 'software', 'pycon', 'vteprogramming', 'languages', 'timeline', 'ada', 'algol', 'apl', 'arkts', 'cobol', 'erlang', 'fortran', 'haskell', 'java', 'javascript', 'julia', 'kotlin', 'lua', 'matlab', 'ml', 'pascal', 'pascal', 'perl', 'php', 'prolog', 'sql', 'simula', 'smalltalk', 'lists', 'english', 'vtepython', 'frameworks', 'cherrypy', 'cubicweb', 'django', 'fastapi', 'grok', 'nevow', 'pylons', 'quixote', 'turbogears', 'twistedweb', 'zope', 'vtedifferentiable', 'computinggeneral', 'programming', 'neuromorphic', 'concepts', 'sgd', 'overfitting', 'functions', 'backpropagation', 'batchnorm', 'softmax', 'datasets', 'autoregression', 'applications', 'computing', 'ipu', 'tpu', 'vpu', 'memristor', 'software', 'libraries', 'tensorflow', 'pytorch', 'keras', 'theano', 'jax', 'jl', 'mindspore', 'implementationsaudio', 'alexnet', 'wavenet', 'hwr', 'ocr', 'alphafold', 'dall', 'midjourney', 'bert', 'gemini', 'lamda', 'nmt', 'ibm', 'watson', 'ibm', 'watsonx', 'gpt', 'gpt', 'gpt', 'gpt', 'chatgpt', 'gpt', 'pangu', 'alphago', 'alphazero', 'openai', 'muzero', 'gpt', 'yoshua', 'bengio', 'alex', 'graves', 'ian', 'goodfellow', 'stephen', 'grossberg', 'demis', 'hassabis', 'geoffrey', 'hinton', 'yann', 'lecun', 'andrew', 'ng', 'schmidhuber', 'david', 'ilya', 'sutskever', 'organizations', 'eleutherai', 'google', 'deepmind', 'openai', 'mit', 'csail', 'huawei', 'architectures', 'turing', 'rnn', 'lstm', 'gru', 'multilayer', 'perceptron', 'mlp', 'autoencoder', 'autoencoder', 'vae', 'adversarial', 'portals', 'programming', 'categories', 'networks', 'vtefree', 'softwaregeneral', 'terms', 'software', 'software', 'facilities', 'software', 'software', 'directories', 'libre', 'software', 'software', 'timeline', 'softwarepackages', 'bioinformatics', 'codecs', 'drivers', 'suites', 'systems', 'games', 'applications', 'apps', 'ios', 'apps', 'software', 'software', 'events', 'organisations', 'software', 'india', 'software', 'licenses', 'afl', 'apsl', 'beerware', 'bsd', 'cddl', 'epl', 'software', 'gpl', 'agpl', 'lgpl', 'isc', 'mit', 'mpl', 'software', 'shared', 'sleepycat', 'unlicense', 'wtfpl', 'zlib', 'types', 'standards', 'licenses', 'copyleft', 'debian', 'software', 'guidelines', 'software', 'software', 'challenges', 'rights', 'mozilla', 'software', 'rebranding', 'drivers', 'firmware', 'software', 'sco', 'linux', 'controversies', 'software', 'patents', 'software', 'trusted', 'computing', 'topics', 'forking', 'microsoft', 'shared', 'software', 'vtestatistical', 'softwarepublic', 'dataplot', 'epi', 'info', 'cspro', 'arima', 'admb', 'gretl', 'jasp', 'jags', 'jmulti', 'julia', 'jupyter', 'julia', 'openbugs', 'pspp', 'statsmodels', 'ipython', 'rstudio', 'sagemath', 'simfit', 'stan', 'xlispstat', 'freeware', 'cumfreq', 'segreg', 'xplore', 'winbugs', 'commercialcross', 'graphpad', 'instat', 'graphpad', 'ibm', 'spss', 'ibm', 'spss', 'jmp', 'mathcad', 'mathematica', 'matlab', 'oxmetrics', 'rats', 'sas', 'smartpls', 'stata', 'statview', 'sudaan', 'tsp', 'programming', 'wps', 'windows', 'bmdp', 'eviews', 'genstat', 'limdep', 'lisrel', 'medcalc', 'microfit', 'minitab', 'mlwin', 'ncss', 'shazam', 'sigmastat', 'statistica', 'statsdirect', 'statxact', 'systat', 'unscrambler', 'unistat', 'unistat', 'xlfit', 'rexcel', 'vtenumerical', 'softwarefree', 'admb', 'euler', 'freefem', 'freemat', 'gmsh', 'gretl', 'julia', 'jupyter', 'julia', 'ipython', 'mfem', 'openfoam', 'sagemath', 'salome', 'scicoslab', 'scilab', 'discontinued', 'dadisp', 'featool', 'multiphysics', 'labview', 'mathcad', 'mathematica', 'matlab', 'speakeasy', 'vissim', 'databases', 'france', 'bnf', 'germany', 'israel', 'states', 'czech', 'idref', 'retrieved', 'https', 'wikipedia', 'org', 'php', 'oldid', 'categories', 'programming', 'programming', 'languagesnotebook', 'interfacecomputer', 'netherlandsconcurrent', 'programming', 'languagescross', 'softwarecross', 'softwaredutch', 'inventionsdynamically', 'typed', 'programming', 'languageseducational', 'programming', 'languageshigh', 'programming', 'languagesinformation', 'netherlandsmulti', 'programming', 'languagesobject', 'oriented', 'programming', 'languagespattern', 'programming', 'languagesprogramming', 'languagesprogramming', 'languages', 'created', 'languagestext', 'oriented', 'programming', 'languageshidden', 'categories', 'articles', 'descriptionshort', 'matches', 'wikidatause', 'dmy', 'dates', 'november', 'containing', 'dated', 'statements', 'october', 'articles', 'containing', 'dated', 'statementsarticles', 'containing', 'dated', 'statements', 'containing', 'dated', 'statements', 'november', 'containing', 'dated', 'statements', 'december', 'containing', 'dated', 'statements', 'containing', 'dated', 'statements', 'articles', 'lacking', 'referencesarticles', 'lacking', 'references', 'january', 'using', 'wikidata', 'namespace', 'mismatchpages', 'using', 'wikidataarticles', 'identifiersarticles', 'bnf', 'identifiersarticles', 'bnfdata', 'identifiersarticles', 'gnd', 'identifiersarticles', 'identifiersarticles', 'lccn', 'identifiersarticles', 'nkc', 'identifiersarticles', 'sudoc', 'identifiersarticles', 'programming', 'edited', 'february', 'utc', 'sharealike', 'terms', 'using', 'terms', 'wikipedia', 'trademark', 'wikimedia', 'inc', 'wikipedia', 'disclaimers', 'wikipedia', 'developers', 'cookie']\n"
     ]
    }
   ],
   "source": [
    "import re\n",
    "import requests\n",
    "from bs4 import BeautifulSoup\n",
    "from nltk.corpus import words\n",
    "\n",
    "def unknown(url):\n",
    "    \n",
    "    # here i tried to fetch webpage content.....\n",
    "    response = requests.get(url)\n",
    "    html = response.text\n",
    "    \n",
    "    # here is the extraction if text from HTML.....\n",
    "    soup = BeautifulSoup(html, 'html.parser')\n",
    "    text = soup.get_text()\n",
    "    \n",
    "    # here i found all substrings consisting of lowercase letter.....\n",
    "    lowercase_w = re.findall(r'\\b[a-z]+\\b', text.lower())\n",
    "    \n",
    "    # here i removed words that occur in the Words Corpus.....\n",
    "    english_w = set(words.words())\n",
    "    unknown_w = [word for word in lowercase_w if word not in english_w]\n",
    "    \n",
    "    return unknown_w\n",
    "\n",
    "\n",
    "url = \"https://en.wikipedia.org/wiki/Python_(programming_language)\"\n",
    "unknown_w = unknown(url)\n",
    "print(\"UNKNOWN words on the webpage\\n\\n:\")\n",
    "print(unknown_w)\n"
   ]
  },
  {
   "cell_type": "markdown",
   "id": "1a84b304",
   "metadata": {},
   "source": [
    "#### 4. Use the Porter Stemmer to normalize some tokenized text, calling the stemmer on each word. Do the same thing with the Lancaster Stemmer, and see if you ob- serve any differences."
   ]
  },
  {
   "cell_type": "code",
   "execution_count": 32,
   "id": "5e9fbc6b",
   "metadata": {},
   "outputs": [
    {
     "name": "stdout",
     "output_type": "stream",
     "text": [
      "ORIGINAL Text: ['running', 'easily', 'generously', 'happily', 'quickly', 'slowly', 'playing', 'cats', 'dogs', 'houses', 'organization', 'university', 'baseball', 'swimming', 'horses', 'retrieved', 'computing', 'lovely', 'funny']\n",
      "\n",
      "PORTER Stemmed Text: ['run', 'easili', 'gener', 'happili', 'quickli', 'slowli', 'play', 'cat', 'dog', 'hous', 'organ', 'univers', 'basebal', 'swim', 'hors', 'retriev', 'comput', 'love', 'funni']\n",
      "\n",
      "LANCASTER Stemmed Text: ['run', 'easy', 'gen', 'happy', 'quick', 'slow', 'play', 'cat', 'dog', 'hous', 'org', 'univers', 'basebal', 'swim', 'hors', 'retriev', 'comput', 'lov', 'funny']\n"
     ]
    }
   ],
   "source": [
    "import nltk\n",
    "from nltk.stem import PorterStemmer, LancasterStemmer\n",
    "\n",
    "\n",
    "tokenized_t = [\"running\", \"easily\", \"generously\", \"happily\", \"quickly\", \"slowly\", \"playing\", \"cats\", \"dogs\", \"houses\", \"organization\", \"university\", \"baseball\", \"swimming\", \"horses\", \"retrieved\", \"computing\", \"lovely\", \"funny\"]\n",
    "\n",
    "# here i initialize Porter Stemmer and Lancaster Stemmer.....\n",
    "porter_stem = PorterStemmer()\n",
    "lancaster_stem = LancasterStemmer()\n",
    "\n",
    "# Applied....\n",
    "porter_stem_t = [porter_stem.stem(word) for word in tokenized_t]\n",
    "\n",
    "# Applied.....\n",
    "lancaster_stem_t = [lancaster_stem.stem(word) for word in tokenized_t]\n",
    "\n",
    "\n",
    "print(\"ORIGINAL Text:\", tokenized_t)\n",
    "print(\"\\nPORTER Stemmed Text:\", porter_stem_t)\n",
    "print(\"\\nLANCASTER Stemmed Text:\", lancaster_stem_t)\n"
   ]
  },
  {
   "cell_type": "markdown",
   "id": "cd1c07a3",
   "metadata": {},
   "source": [
    "#### 5. Read the Wikipedia entry on Soundex. Implement this algorithm in Python.\n"
   ]
  },
  {
   "cell_type": "code",
   "execution_count": 31,
   "id": "5f2e5080",
   "metadata": {},
   "outputs": [
    {
     "name": "stdout",
     "output_type": "stream",
     "text": [
      "SOUNDEX code for India : I530\n"
     ]
    }
   ],
   "source": [
    "def soundex(word):\n",
    "    \n",
    "    # here i converted word to uppercase......\n",
    "    word = word.upper()\n",
    "    \n",
    "    # then removed non-alphabet characters and vowels except the first letter.....\n",
    "    first_l = word[0]\n",
    "    word = word[1:]\n",
    "    word = word.replace('A', '').replace('E', '').replace('I', '').replace('O', '').replace('U', '').replace('Y', '')\n",
    "    \n",
    "    # then i replaced consonants with digits according to Soundex rules....\n",
    "    soundex_d = {'B': '1', 'F': '1', 'P': '1', 'V': '1', 'C': '2', 'G': '2', 'J': '2', 'K': '2', 'Q': '2',\n",
    "                    'S': '2', 'X': '2', 'Z': '2', 'D': '3', 'T': '3', 'L': '4', 'M': '5', 'N': '5', 'R': '6'}\n",
    "    soundex_c = first_l\n",
    "    for char in word:\n",
    "        if char in soundex_d:\n",
    "            if soundex_d[char] != soundex_c[-1]:\n",
    "                soundex_c += soundex_d[char]\n",
    "    \n",
    "    # and if the code is less than 4 characters, pad with zeros or if it is longer, truncate to 4 characters.....\n",
    "    soundex_c = soundex_c.ljust(4, '0')[:4]\n",
    "    \n",
    "    return soundex_c\n",
    "\n",
    "\n",
    "\n",
    "word = \"India\"\n",
    "print(\"SOUNDEX code for\", word, \":\", soundex(word))\n"
   ]
  },
  {
   "cell_type": "markdown",
   "id": "967e97f6",
   "metadata": {},
   "source": [
    "# chapter 4"
   ]
  },
  {
   "cell_type": "markdown",
   "id": "cfa4b7a7",
   "metadata": {},
   "source": [
    "#### 1. Write a function novel10(text) that prints any word that appeared in the last 10% of a text that had not been encountered earlier."
   ]
  },
  {
   "cell_type": "code",
   "execution_count": 27,
   "id": "60150efb",
   "metadata": {},
   "outputs": [
    {
     "name": "stdout",
     "output_type": "stream",
     "text": [
      "text\n",
      "or\n",
      "audio\n",
      "format\n"
     ]
    }
   ],
   "source": [
    "def novel10(text):\n",
    "    \n",
    "    words = text.split()\n",
    "    \n",
    "    # here i determine the index from which the last 10% of the text starts....\n",
    "    last_10= int(len(words) * 0.9)\n",
    "    \n",
    "    # here i create a set to store encountered words....\n",
    "    encountered_w = set(words[:last_10])\n",
    "    \n",
    "    # then i iterate over words in the last 10% of the text.....\n",
    "    for word in words[last_10:]:\n",
    "        # and print word if it hasn't been encountered earlier....\n",
    "        if word not in encountered_w:\n",
    "            print(word)\n",
    "\n",
    "\n",
    "text = \"NLP stands for Natural Language Processing. It is the branch of Artificial Intelligence that gives the ability to machine understand and process human languages. Human languages can be in the form of text or audio format\"\n",
    "novel10(text)\n"
   ]
  },
  {
   "cell_type": "markdown",
   "id": "32dbcabf",
   "metadata": {},
   "source": [
    "#### 2. Write a function that takes a list of words (containing duplicates) and returns a list of words (with no duplicates) sorted by decreasing frequency. E.g., if the input list contained 10 instances of the word table and 9 instances of the word chair, then table would appear before chair in the output list."
   ]
  },
  {
   "cell_type": "code",
   "execution_count": 28,
   "id": "87f58af3",
   "metadata": {},
   "outputs": [
    {
     "name": "stdout",
     "output_type": "stream",
     "text": [
      "['chair', 'table']\n"
     ]
    }
   ],
   "source": [
    "from collections import Counter\n",
    "\n",
    "def sort_by_frequency(words):\n",
    "    \n",
    "    # here i count the frequency of each word.....\n",
    "    word_f = Counter(words)\n",
    "    \n",
    "    # here i sorted the words by frequency in descending order....\n",
    "    sorted_w = sorted(word_f.items(), key=lambda x: x[1], reverse=True)\n",
    "    \n",
    "    # here i extracted the words from the sorted list of tuples.....\n",
    "    sorted_w = [word for word, freq in sorted_w]\n",
    "    \n",
    "    return sorted_w\n",
    "\n",
    "\n",
    "input_l = ['table', 'chair', 'table', 'chair', 'table', 'table', 'chair', 'table', 'chair', 'table', 'table', 'table', 'chair', 'chair', 'chair', 'chair', 'chair']\n",
    "output_l = sort_by_frequency(input_l)\n",
    "print(output_l)\n"
   ]
  },
  {
   "cell_type": "markdown",
   "id": "adf7f070",
   "metadata": {},
   "source": [
    "#### 3. Read about string edit distance and the Levenshtein Algorithm. Try the imple- mentation provided in nltk.edit_dist(). In what way is this using dynamic pro- gramming? Does it use the bottom-up or top-down approach? (See also http:// norvig.com/spell-correct.html.)"
   ]
  },
  {
   "cell_type": "code",
   "execution_count": 37,
   "id": "a18dbdf5",
   "metadata": {},
   "outputs": [
    {
     "name": "stdout",
     "output_type": "stream",
     "text": [
      "Edit distance between 'submission' and 'mission': 3\n"
     ]
    }
   ],
   "source": [
    "import nltk\n",
    "\n",
    "\n",
    "str1 = \"submission\"\n",
    "str2 = \"mission\"\n",
    "\n",
    "\n",
    "edit_distance = nltk.edit_distance(str1, str2)\n",
    "\n",
    "\n",
    "print(\"Edit distance between '{}' and '{}': {}\".format(str1, str2, edit_distance))\n"
   ]
  },
  {
   "cell_type": "markdown",
   "id": "74dcaf8a",
   "metadata": {},
   "source": [
    "#### 4. The Catalan numbers arise in many applications of combinatorial mathematics, including the counting of parse trees (Section 8.6). The series can be defined as follows: C0 = 1, and Cn+1 = Σ0..n (CiCn-i).\n",
    "a. Write a recursive function to compute nth Catalan number Cn.\n",
    "b. Now write another function that does this computation using dynamic pro-\n",
    "gramming.\n",
    "c. Use the timeit module to compare the performance of these functions as n increases."
   ]
  },
  {
   "cell_type": "code",
   "execution_count": 39,
   "id": "0765960d",
   "metadata": {},
   "outputs": [
    {
     "name": "stdout",
     "output_type": "stream",
     "text": [
      "Time taken for RECURSIVE approach: 3.834855050998158\n",
      "Time taken for DYNAMIC PROGRAMMING approach: 0.007869130000472069\n"
     ]
    }
   ],
   "source": [
    "import timeit\n",
    "\n",
    "# here i used recursive function to compute nth Catalan number....\n",
    "def catalan_recursive(n):\n",
    "    if n <= 1:\n",
    "        return 1\n",
    "    else:\n",
    "        result = 0\n",
    "        for i in range(n):\n",
    "            result += catalan_recursive(i) * catalan_recursive(n - i - 1)\n",
    "        return result\n",
    "\n",
    "# this function is used to compute nth Catalan number using dynamic programming.....\n",
    "def catalan_dynamic(n):\n",
    "    catalan = [0] * (n + 1)\n",
    "    catalan[0] = 1\n",
    "    for i in range(1, n + 1):\n",
    "        for j in range(i):\n",
    "            catalan[i] += catalan[j] * catalan[i - j - 1]\n",
    "    return catalan[n]\n",
    "\n",
    "# this is the comparison of performance using timeit.......\n",
    "n = 10\n",
    "recursive_t = timeit.timeit(lambda: catalan_recursive(n), number=1000)\n",
    "dynamic_t = timeit.timeit(lambda: catalan_dynamic(n), number=1000)\n",
    "\n",
    "print(\"Time taken for RECURSIVE approach:\", recursive_t)\n",
    "print(\"Time taken for DYNAMIC PROGRAMMING approach:\", dynamic_t)\n"
   ]
  }
 ],
 "metadata": {
  "kernelspec": {
   "display_name": "Python 3 (ipykernel)",
   "language": "python",
   "name": "python3"
  },
  "language_info": {
   "codemirror_mode": {
    "name": "ipython",
    "version": 3
   },
   "file_extension": ".py",
   "mimetype": "text/x-python",
   "name": "python",
   "nbconvert_exporter": "python",
   "pygments_lexer": "ipython3",
   "version": "3.11.5"
  }
 },
 "nbformat": 4,
 "nbformat_minor": 5
}
