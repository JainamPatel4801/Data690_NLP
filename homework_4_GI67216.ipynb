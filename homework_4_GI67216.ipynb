{
 "cells": [
  {
   "cell_type": "markdown",
   "id": "e878f20a-91ae-4ffd-b7dc-2aad39efeea5",
   "metadata": {},
   "source": [
    "# GI67216 Jainam Maheshkumar Patel\n",
    "# Chapter 6 Homework \n",
    "\n",
    "\n",
    "#### Study Reference: NLTK book and geeks for geeks...."
   ]
  },
  {
   "cell_type": "markdown",
   "id": "3686cee0-4c7b-427d-91ae-23754b287442",
   "metadata": {},
   "source": [
    "#####  **1.The twenty user groups dataset is know to have several words in it that make classification tasks easy, use NLTK's distribution function to find words that appear in 97.5% of of all documents or in less than 2.5% of the documents. Using a count vectorizer add those words to the stop_words parameter. What does this do to the accuracy of the classifier on the training set? On the testing set?**"
   ]
  },
  {
   "cell_type": "code",
   "execution_count": 36,
   "id": "49a514d3-ac88-4b6c-95ee-8d102c6f41d0",
   "metadata": {
    "tags": []
   },
   "outputs": [],
   "source": [
    "#here all the libraries that i need\n",
    "\n",
    "import numpy as np\n",
    "from sklearn.datasets import fetch_20newsgroups\n",
    "from sklearn.feature_extraction.text import CountVectorizer\n",
    "from sklearn.naive_bayes import MultinomialNB\n",
    "from sklearn.pipeline import make_pipeline\n",
    "from sklearn.metrics import accuracy_score"
   ]
  },
  {
   "cell_type": "code",
   "execution_count": 37,
   "id": "1371f358-ec30-4c45-b401-64c31ed61915",
   "metadata": {
    "tags": []
   },
   "outputs": [],
   "source": [
    "# here i have Loaded the 20 newsgroups dataset....\n",
    "data = fetch_20newsgroups(subset='all', shuffle=True, random_state=42)\n",
    "\n",
    "# here i have initialize CountVectorizer......\n",
    "vectorizer = CountVectorizer(stop_words='english')\n",
    "\n",
    "# here i have fit and transform the data with CountVectorizer.....\n",
    "X_train = vectorizer.fit_transform(data.data)\n",
    "y_train = data.target"
   ]
  },
  {
   "cell_type": "code",
   "execution_count": 38,
   "id": "df222b81-b95b-43b3-9138-15020aebf394",
   "metadata": {},
   "outputs": [
    {
     "name": "stdout",
     "output_type": "stream",
     "text": [
      "Training set ACCURACY before adding stop words: 0.9464077257773533\n"
     ]
    }
   ],
   "source": [
    "# here is the Multinomial Naive Bayes classifier.....\n",
    "classifier = MultinomialNB()\n",
    "classifier.fit(X_train, y_train)\n",
    "\n",
    "y_train_p = classifier.predict(X_train)\n",
    "\n",
    "# accuracy.....\n",
    "train_acc = accuracy_score(y_train, y_train_p)\n",
    "print(\"Training set ACCURACY before adding stop words:\", train_acc)"
   ]
  },
  {
   "cell_type": "code",
   "execution_count": 39,
   "id": "c960c58d-3deb-44e1-8b90-adbf98475be3",
   "metadata": {},
   "outputs": [],
   "source": [
    "# here is the documented frequencies of each word.....\n",
    "doc_f = np.array((X_train > 0).sum(0)).flatten()\n",
    "\n",
    "\n",
    "# here is the code to find words that appear in 97.5% of all documents or in less than 2.5% of the documents......\n",
    "high_freq_w = np.where(doc_freqs >= np.percentile(doc_f, 97.5))[0]\n",
    "low_freq_w = np.where(doc_freqs <= np.percentile(doc_f, 2.5))[0]"
   ]
  },
  {
   "cell_type": "code",
   "execution_count": 40,
   "id": "da555a6b",
   "metadata": {},
   "outputs": [],
   "source": [
    "# here i got feature names from the CountVectorizer......\n",
    "feature_n = np.array(vectorizer.get_feature_names_out())\n",
    "\n",
    "\n",
    "# list for that....\n",
    "stop_w = list(set(feature_names[high_freq_w]) | set(feature_names[low_freq_w]))"
   ]
  },
  {
   "cell_type": "code",
   "execution_count": 41,
   "id": "6ae6384f",
   "metadata": {},
   "outputs": [],
   "source": [
    "# here i added the selected stop words to the CountVectorizer......\n",
    "vectorizer_with_stop_w = CountVectorizer(stop_words=stop_words)\n",
    "\n",
    "# here i again fit and transform the data with CountVectorizer including stop words....\n",
    "X_train_with_stop_w = vectorizer_with_stop_w.fit_transform(data.data)\n"
   ]
  },
  {
   "cell_type": "code",
   "execution_count": 42,
   "id": "9f171827-fe18-46f2-9dec-87c11283615e",
   "metadata": {},
   "outputs": [],
   "source": [
    "# here i trained a new classifier with the CountVectorizer including stop words....\n",
    "classifier_with_stop_w = MultinomialNB()\n",
    "classifier_with_stop_w.fit(X_train_with_stop_words, y_train)\n",
    "\n",
    "# here is the prediction on the training set with stop words....\n",
    "y_train_pred_with_stop_w = classifier_with_stop_w.predict(X_train_with_stop_w)\n",
    "\n"
   ]
  },
  {
   "cell_type": "code",
   "execution_count": 43,
   "id": "c2238562",
   "metadata": {},
   "outputs": [
    {
     "name": "stdout",
     "output_type": "stream",
     "text": [
      "Training set ACCURACY after adding stop words: 0.9049665711556829\n"
     ]
    }
   ],
   "source": [
    "# accuracy....\n",
    "train_accuracy_with_stop_w = accuracy_score(y_train, y_train_pred_with_stop_w)\n",
    "print(\"Training set ACCURACY after adding stop words:\", train_accuracy_with_stop_w)\n",
    "\n",
    "# testing set.....\n",
    "data_test = fetch_20newsgroups(subset='test', shuffle=True, random_state=42)\n",
    "X_test = vectorizer_with_stop_words.transform(data_test.data)\n",
    "y_test = data_test.target\n"
   ]
  },
  {
   "cell_type": "code",
   "execution_count": 44,
   "id": "012cc248-a40f-4ea6-bab5-7d2477ad300b",
   "metadata": {},
   "outputs": [
    {
     "name": "stdout",
     "output_type": "stream",
     "text": [
      "Testing set ACCURACY after adding stop words: 0.898964418481147\n"
     ]
    }
   ],
   "source": [
    "# here is the prediction on the testing set with stop words.....\n",
    "y_test_pred_with_stop_w = classifier_with_stop_w.predict(X_test)\n",
    "\n",
    "# accuracy\n",
    "test_accuracy_with_stop_w = accuracy_score(y_test, y_test_pred_with_stop_w)\n",
    "print(\"Testing set ACCURACY after adding stop words:\", test_accuracy_with_stop_w)\n"
   ]
  }
 ],
 "metadata": {
  "kernelspec": {
   "display_name": "Python 3 (ipykernel)",
   "language": "python",
   "name": "python3"
  },
  "language_info": {
   "codemirror_mode": {
    "name": "ipython",
    "version": 3
   },
   "file_extension": ".py",
   "mimetype": "text/x-python",
   "name": "python",
   "nbconvert_exporter": "python",
   "pygments_lexer": "ipython3",
   "version": "3.11.5"
  }
 },
 "nbformat": 4,
 "nbformat_minor": 5
}
