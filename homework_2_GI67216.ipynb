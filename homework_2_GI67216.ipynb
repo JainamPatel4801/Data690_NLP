{
 "cells": [
  {
   "cell_type": "markdown",
   "id": "5a3d2361",
   "metadata": {},
   "source": [
    "# GI67216 Jainam Maheshkumar Patel\n",
    "# Chapter 2 Homework \n",
    "\n",
    "\n",
    "#### Study Reference: NLTK book and geeks for geeks...."
   ]
  },
  {
   "cell_type": "markdown",
   "id": "097c948e",
   "metadata": {},
   "source": [
    "####  IMPORTING LIBARIES I need "
   ]
  },
  {
   "cell_type": "code",
   "execution_count": 49,
   "id": "74f9ab13",
   "metadata": {},
   "outputs": [],
   "source": [
    "import nltk\n",
    "import matplotlib.pyplot as plt\n",
    "import numpy as np\n",
    "import random\n",
    "import string\n",
    "from nltk.corpus import gutenberg\n",
    "from nltk.corpus import state_union\n",
    "from nltk.corpus import brown, webtext\n",
    "from nltk.corpus import wordnet as wn\n",
    "from nltk.corpus import brown\n",
    "from nltk.corpus import stopwords\n",
    "from collections import Counter"
   ]
  },
  {
   "cell_type": "markdown",
   "id": "1dd9c324",
   "metadata": {},
   "source": [
    "#### 1. Use the corpus module to explore austen-persuasion.txt. How many word tokens does this book have? How many word types?"
   ]
  },
  {
   "cell_type": "code",
   "execution_count": 50,
   "id": "99a560ac",
   "metadata": {},
   "outputs": [
    {
     "name": "stdout",
     "output_type": "stream",
     "text": [
      "Word TOKENS: 98171\n",
      "Word TYPES: 6132\n"
     ]
    }
   ],
   "source": [
    "# answer....\n",
    "\n",
    "persuasion_w = gutenberg.words('austen-persuasion.txt')\n",
    "w_tokens = len(persuasion_w)\n",
    "w_types = len(set(persuasion_w))\n",
    "\n",
    "print(\"Word TOKENS:\", w_tokens)\n",
    "print(\"Word TYPES:\", w_types)\n"
   ]
  },
  {
   "cell_type": "markdown",
   "id": "e655ecb9",
   "metadata": {},
   "source": [
    "#### 2. Use the Brown Corpus reader nltk.corpus.brown.words() or the Web Text Cor- pus reader nltk.corpus.webtext.words() to access some sample text in two differ- ent genres."
   ]
  },
  {
   "cell_type": "code",
   "execution_count": 51,
   "id": "4c69baac",
   "metadata": {},
   "outputs": [
    {
     "name": "stdout",
     "output_type": "stream",
     "text": [
      "BROWN Corpus Sample Text: The Fulton County Grand Jury said Friday an investigation of Atlanta's recent primary election produced `` no evidence '' that any irregularities took place . The jury further said in term-end presentments that the City Executive Committee , which had over-all charge of the election , `` deserves the praise and thanks of the City of Atlanta '' for the manner in which the election was conducted . The September-October term jury had been charged by Fulton Superior Court Judge Durwood Pye to investigate reports of possible `` irregularities '' in the hard-fought primary which was won by Mayor-nominate Ivan\n",
      "\n",
      "\n",
      "WEBTEXT Corpus Sample Text: SCENE 1 : [ wind ] [ clop clop clop ] KING ARTHUR : Whoa there ! [ clop clop clop ] SOLDIER # 1 : Halt ! Who goes there ? ARTHUR : It is I , Arthur , son of Uther Pendragon , from the castle of Camelot . King of the Britons , defeator of the Saxons , sovereign of all England ! SOLDIER # 1 : Pull the other one ! ARTHUR : I am , ... and this is my trusty servant Patsy . We have ridden the length and breadth of the land in\n"
     ]
    }
   ],
   "source": [
    "# answer....\n",
    "\n",
    "brown_s = brown.words(categories='news')[:100]  # this is the sample text from the news category....\n",
    "webt_s = webtext.words('grail.txt')[:100]   # this is the sample text from the webtext corpus....\n",
    "\n",
    "print(\"BROWN Corpus Sample Text:\", ' '.join(brown_s))\n",
    "print(\"\\n\\nWEBTEXT Corpus Sample Text:\", ' '.join(webt_s))\n"
   ]
  },
  {
   "cell_type": "markdown",
   "id": "acf5882d",
   "metadata": {},
   "source": [
    "#### 3. ReadinthetextsoftheStateoftheUnionaddresses,usingthestate_unioncorpus reader. Count occurrences of men, women, and people in each document. What has happened to the usage of these words over time?"
   ]
  },
  {
   "cell_type": "code",
   "execution_count": 52,
   "id": "e892b2b6",
   "metadata": {},
   "outputs": [
    {
     "name": "stdout",
     "output_type": "stream",
     "text": [
      "YEAR: 1945, MEN: 2, WOMEN: 2, PEOPLE: 10\n",
      "YEAR: 1946, MEN: 12, WOMEN: 7, PEOPLE: 49\n",
      "YEAR: 1947, MEN: 7, WOMEN: 2, PEOPLE: 12\n",
      "YEAR: 1948, MEN: 4, WOMEN: 1, PEOPLE: 22\n",
      "YEAR: 1949, MEN: 2, WOMEN: 1, PEOPLE: 15\n",
      "YEAR: 1950, MEN: 6, WOMEN: 2, PEOPLE: 15\n",
      "YEAR: 1951, MEN: 8, WOMEN: 2, PEOPLE: 9\n",
      "YEAR: 1953, MEN: 3, WOMEN: 0, PEOPLE: 17\n",
      "YEAR: 1954, MEN: 2, WOMEN: 0, PEOPLE: 15\n",
      "YEAR: 1955, MEN: 4, WOMEN: 0, PEOPLE: 26\n",
      "YEAR: 1956, MEN: 2, WOMEN: 2, PEOPLE: 30\n",
      "YEAR: 1957, MEN: 5, WOMEN: 2, PEOPLE: 11\n",
      "YEAR: 1958, MEN: 2, WOMEN: 1, PEOPLE: 19\n",
      "YEAR: 1959, MEN: 4, WOMEN: 1, PEOPLE: 11\n",
      "YEAR: 1960, MEN: 2, WOMEN: 0, PEOPLE: 10\n",
      "YEAR: 1961, MEN: 6, WOMEN: 0, PEOPLE: 10\n",
      "YEAR: 1962, MEN: 6, WOMEN: 2, PEOPLE: 10\n",
      "YEAR: 1963, MEN: 0, WOMEN: 0, PEOPLE: 3\n",
      "YEAR: 1963, MEN: 8, WOMEN: 5, PEOPLE: 12\n",
      "YEAR: 1964, MEN: 3, WOMEN: 1, PEOPLE: 3\n",
      "YEAR: 1965, MEN: 7, WOMEN: 0, PEOPLE: 16\n",
      "YEAR: 1965, MEN: 11, WOMEN: 3, PEOPLE: 14\n",
      "YEAR: 1966, MEN: 12, WOMEN: 1, PEOPLE: 35\n",
      "YEAR: 1967, MEN: 11, WOMEN: 1, PEOPLE: 25\n",
      "YEAR: 1968, MEN: 4, WOMEN: 0, PEOPLE: 17\n",
      "YEAR: 1969, MEN: 5, WOMEN: 2, PEOPLE: 6\n",
      "YEAR: 1970, MEN: 2, WOMEN: 0, PEOPLE: 23\n",
      "YEAR: 1971, MEN: 1, WOMEN: 0, PEOPLE: 31\n",
      "YEAR: 1972, MEN: 1, WOMEN: 0, PEOPLE: 7\n",
      "YEAR: 1973, MEN: 0, WOMEN: 0, PEOPLE: 9\n",
      "YEAR: 1974, MEN: 0, WOMEN: 0, PEOPLE: 19\n",
      "YEAR: 1975, MEN: 0, WOMEN: 0, PEOPLE: 13\n",
      "YEAR: 1976, MEN: 3, WOMEN: 1, PEOPLE: 18\n",
      "YEAR: 1977, MEN: 2, WOMEN: 1, PEOPLE: 17\n",
      "YEAR: 1978, MEN: 0, WOMEN: 1, PEOPLE: 26\n",
      "YEAR: 1979, MEN: 0, WOMEN: 1, PEOPLE: 15\n",
      "YEAR: 1980, MEN: 1, WOMEN: 2, PEOPLE: 11\n",
      "YEAR: 1981, MEN: 1, WOMEN: 1, PEOPLE: 11\n",
      "YEAR: 1982, MEN: 1, WOMEN: 1, PEOPLE: 17\n",
      "YEAR: 1983, MEN: 3, WOMEN: 7, PEOPLE: 19\n",
      "YEAR: 1984, MEN: 3, WOMEN: 5, PEOPLE: 23\n",
      "YEAR: 1985, MEN: 1, WOMEN: 1, PEOPLE: 12\n",
      "YEAR: 1986, MEN: 2, WOMEN: 2, PEOPLE: 14\n",
      "YEAR: 1987, MEN: 1, WOMEN: 0, PEOPLE: 24\n",
      "YEAR: 1988, MEN: 1, WOMEN: 0, PEOPLE: 16\n",
      "YEAR: 1989, MEN: 2, WOMEN: 3, PEOPLE: 13\n",
      "YEAR: 1990, MEN: 3, WOMEN: 2, PEOPLE: 9\n",
      "YEAR: 1991, MEN: 2, WOMEN: 2, PEOPLE: 13\n",
      "YEAR: 1991, MEN: 7, WOMEN: 7, PEOPLE: 13\n",
      "YEAR: 1992, MEN: 4, WOMEN: 4, PEOPLE: 26\n",
      "YEAR: 1993, MEN: 1, WOMEN: 2, PEOPLE: 45\n",
      "YEAR: 1994, MEN: 1, WOMEN: 1, PEOPLE: 63\n",
      "YEAR: 1995, MEN: 1, WOMEN: 3, PEOPLE: 73\n",
      "YEAR: 1996, MEN: 2, WOMEN: 3, PEOPLE: 40\n",
      "YEAR: 1997, MEN: 1, WOMEN: 2, PEOPLE: 30\n",
      "YEAR: 1998, MEN: 2, WOMEN: 2, PEOPLE: 22\n",
      "YEAR: 1999, MEN: 2, WOMEN: 3, PEOPLE: 22\n",
      "YEAR: 2000, MEN: 5, WOMEN: 6, PEOPLE: 41\n",
      "YEAR: 2001, MEN: 3, WOMEN: 3, PEOPLE: 14\n",
      "YEAR: 2001, MEN: 1, WOMEN: 2, PEOPLE: 12\n",
      "YEAR: 2002, MEN: 3, WOMEN: 5, PEOPLE: 14\n",
      "YEAR: 2003, MEN: 6, WOMEN: 4, PEOPLE: 33\n",
      "YEAR: 2004, MEN: 6, WOMEN: 8, PEOPLE: 21\n",
      "YEAR: 2005, MEN: 8, WOMEN: 11, PEOPLE: 18\n",
      "YEAR: 2006, MEN: 7, WOMEN: 7, PEOPLE: 22\n"
     ]
    }
   ],
   "source": [
    "# answer\n",
    "\n",
    "# here i am Counting the occurrences of 'men', 'women', and 'people' in each document.....\n",
    "for fileid in state_union.fileids():\n",
    "    words = state_union.words(fileid)\n",
    "    men_c = words.count('men')\n",
    "    women_c = words.count('women')\n",
    "    people_c  = words.count('people')\n",
    "    print(f\"YEAR: {fileid[:4]}, MEN: {men_c}, WOMEN: {women_c}, PEOPLE: {people_c}\")\n"
   ]
  },
  {
   "cell_type": "markdown",
   "id": "1dcce5b9",
   "metadata": {},
   "source": [
    "#### 4. Investigate the holonym-meronym relations for some nouns. Remember that there are three kinds of holonym-meronym relation, so you need to use member_mer onyms(), part_meronyms(), substance_meronyms(), member_holonyms(), part_holonyms(), and substance_holonyms()."
   ]
  },
  {
   "cell_type": "code",
   "execution_count": 53,
   "id": "ebbee0ff",
   "metadata": {},
   "outputs": [
    {
     "name": "stdout",
     "output_type": "stream",
     "text": [
      "MEMBER HOLONYMs (Parts): [Synset('forest.n.01')]\n",
      "\n",
      "PART MERONYMs: [Synset('burl.n.02'), Synset('crown.n.07'), Synset('limb.n.02'), Synset('stump.n.01'), Synset('trunk.n.01')]\n",
      "\n",
      "SUBSTANCE MERONYMs: [Synset('heartwood.n.01'), Synset('sapwood.n.01')]\n"
     ]
    }
   ],
   "source": [
    "# answer\n",
    "\n",
    "tree = wn.synsets('tree')[0]\n",
    "print(\"MEMBER HOLONYMs (Parts):\", tree.member_holonyms())\n",
    "print(\"\\nPART MERONYMs:\", tree.part_meronyms())\n",
    "print(\"\\nSUBSTANCE MERONYMs:\", tree.substance_meronyms())\n"
   ]
  },
  {
   "cell_type": "markdown",
   "id": "c5723862",
   "metadata": {},
   "source": [
    "#### 5. Investigate the table of modal distributions and look for other patterns. Try to explain them in terms of your own impressionistic understanding of the different genres. Can you find other closed classes of words that exhibit significant differ- ences across different genres?"
   ]
  },
  {
   "cell_type": "markdown",
   "id": "5424c2f2",
   "metadata": {},
   "source": [
    "- Here, to investigate the table of modal distributions and identify patterns across different genres, i have  analyze the frequencies of modal verbs like \"can,\" \"could,\" \"may,\" \"might,\" \"must,\" \"shall,\" \"should,\" \"will,\" \"would,\" and \"ought\" in various texts from different genres."
   ]
  },
  {
   "cell_type": "code",
   "execution_count": 54,
   "id": "802e8ec3",
   "metadata": {},
   "outputs": [
    {
     "name": "stdout",
     "output_type": "stream",
     "text": [
      "Modal Frequencies Across Different Genres:\n",
      "Genre\t\t can\tcould\tmay\tmight\tmust\tshall\tshould\twill\twould\tought\n",
      "adventure   \t48\t154\t7\t59\t27\t11\t17\t51\t194\t7\t\n",
      "belles_lettres\t249\t216\t221\t113\t171\t35\t105\t246\t397\t6\t\n",
      "editorial   \t124\t57\t79\t39\t55\t19\t90\t235\t185\t5\t\n",
      "fiction     \t39\t168\t10\t44\t55\t3\t38\t56\t291\t3\t\n",
      "government  \t119\t38\t179\t13\t102\t99\t113\t244\t120\t1\t\n",
      "hobbies     \t276\t59\t143\t22\t84\t5\t73\t269\t83\t0\t\n",
      "humor       \t17\t33\t8\t8\t9\t2\t7\t13\t56\t2\t\n",
      "learned     \t367\t159\t336\t128\t203\t42\t178\t340\t321\t8\t\n",
      "lore        \t170\t142\t170\t50\t96\t12\t78\t178\t188\t8\t\n",
      "mystery     \t45\t145\t15\t57\t31\t4\t29\t25\t189\t5\t\n",
      "news        \t94\t87\t93\t38\t53\t5\t61\t389\t246\t1\t\n",
      "religion    \t84\t59\t79\t12\t54\t23\t45\t72\t69\t4\t\n",
      "reviews     \t45\t40\t47\t26\t19\t1\t18\t61\t48\t3\t\n",
      "romance     \t79\t195\t11\t51\t46\t4\t33\t49\t247\t14\t\n",
      "science_fiction\t16\t49\t4\t12\t8\t3\t3\t17\t80\t1\t\n"
     ]
    }
   ],
   "source": [
    "# answer\n",
    "\n",
    "genres = brown.categories()\n",
    "\n",
    "modal_v = [\"can\", \"could\", \"may\", \"might\", \"must\", \"shall\", \"should\", \"will\", \"would\", \"ought\"]\n",
    "\n",
    "# here i created a dictionary to store modal frequencies for each genre....\n",
    "modal_f = {}\n",
    "for genre in genres:\n",
    "    genre_words = brown.words(categories=genre)\n",
    "    freq_dist = nltk.FreqDist([word.lower() for word in genre_words if word.lower() in modal_v])\n",
    "    modal_f[genre] = {modal: freq_dist[modal] for modal in modal_v}\n",
    "\n",
    "# here i Printed the modal frequencies for each genre....\n",
    "print(\"Modal Frequencies Across Different Genres:\")\n",
    "print(\"Genre\\t\\t\", \"\\t\".join(modal_v))\n",
    "for genre in genres:\n",
    "    print(genre.ljust(12), end='\\t')\n",
    "    for modal in modal_v:\n",
    "        print(modal_f[genre][modal], end='\\t')\n",
    "    print()\n"
   ]
  },
  {
   "cell_type": "markdown",
   "id": "21a7f8e8",
   "metadata": {},
   "source": [
    "Now, let's observe the table and look for patterns:\n",
    "\n",
    "- Modal Usage by Genre: here we can see variations in the usage of modal verbs across different genres. For example, genres like \"news\" and \"government\" might exhibit higher frequencies of \"will\" and \"must\" compared to genres like \"romance\" or \"mystery.\"\n",
    "\n",
    "- Formality and Certainty: here we can see that certain genres might require more formal language, leading to higher frequencies of \"shall,\" \"will,\" or \"must.\" Genres dealing with regulations or legal matters might exhibit such patterns in this .\n",
    "\n",
    "- A Narrative Style: also here there is some fiction genres like \"mystery\" or \"science fiction\" might involve more speculative or uncertain scenarios, leading to higher frequencies of \"may,\" \"might,\" or \"could.\"\n",
    "\n",
    "- Persuasion and Directives: mostly genres focused on persuasion or directives, like \"editorial\" or \"religion,\" might have higher frequencies of \"should\" or \"ought.\"\n",
    "\n",
    "\n",
    "here is the modal verbs, other closed classes of words that might exhibit significant differences across genres could include the following things:\n",
    "\n",
    "- Conjunctions: we can see genres requiring complex arguments or narratives might have higher frequencies of conjunctions like \"and,\" \"but,\" or \"however.\"\n",
    "\n",
    "- Determiners: also  the choice of determiners like \"the,\" \"a/an,\" or \"this/that\" might vary across genres based on the specificity or generalization of the text.\n",
    "\n",
    "- Pronouns: genres focusing on personal experiences might exhibit higher frequencies of pronouns like \"I,\" \"me,\" or \"my,\" while genres with broader themes might use more third-person pronouns like \"he,\" \"she,\" or \"they.\"\n",
    "\n",
    "\n",
    "here we can see that analyzing these closed classes of words across different genres can provide insights into the linguistic characteristics and stylistic conventions associated with each genre we used in our daily life or anywhere.\n",
    "\n"
   ]
  },
  {
   "cell_type": "markdown",
   "id": "a0629df7",
   "metadata": {},
   "source": [
    "#### 6. Write a function that finds the 50 most frequently occurring words of a text that are not stopword"
   ]
  },
  {
   "cell_type": "code",
   "execution_count": 62,
   "id": "b01dae50",
   "metadata": {},
   "outputs": [
    {
     "name": "stdout",
     "output_type": "stream",
     "text": [
      "[('synsets', 2), ('network', 2), ('related', 2), ('seen', 1), ('linked', 1), ('complex', 1), ('lexical', 1), ('relations', 1), ('given', 1), ('particular', 1), ('synset', 1), ('traverse', 1), ('wordnet', 1), ('find', 1), ('meanings', 1), ('knowing', 1), ('words', 1), ('semantically', 1), ('useful', 1), ('indexing', 1), ('lection', 1), ('texts', 1), ('search', 1), ('general', 1), ('term', 1), ('vehicle', 1), ('match', 1), ('documents', 1), ('containing', 1), ('specific', 1), ('terms', 1), ('limousine', 1)]\n"
     ]
    }
   ],
   "source": [
    "# answer\n",
    "\n",
    "def most_common_words(text):\n",
    "    # here i m tokenizing the text....\n",
    "    words = nltk.word_tokenize(text)\n",
    "    \n",
    "    # here i removed stopwords....\n",
    "    stop_w = set(stopwords.words('english'))\n",
    "    words = [word.lower() for word in words if word.isalnum() and word.lower() not in stop_w]\n",
    "    \n",
    "    # here i counted the occurrences of each word....\n",
    "    word_c = Counter(words)\n",
    "    \n",
    "    # here i tried to get the 50 most common words....\n",
    "    most_c = word_c.most_common(50)\n",
    "    \n",
    "    return most_c\n",
    "\n",
    "# Example usage from book:\n",
    "text = \"We have seen that synsets are linked by a complex network of lexical relations. Given a particular synset, we can traverse the WordNet network to find synsets with related meanings. Knowing which words are semantically related is useful for indexing a col- lection of texts, so that a search for a general term such as vehicle will match documents containing specific terms such as limousine.\"\n",
    "top_w = most_common_words(text)\n",
    "print(top_w)\n"
   ]
  },
  {
   "cell_type": "markdown",
   "id": "933b9651",
   "metadata": {},
   "source": [
    "#### 7. Zipf’s Law: Let f(w) be the frequency of a word w in free text. Suppose that all the words of a text are ranked according to their frequency, with the most frequent word first. Zipf’s Law states that the frequency of a word type is inversely proportional to its rank (i.e., f × r = k, for some constant k). For example, the 50th most common word type should occur three times as frequently as the 150th most common word type.\n",
    "#### a. Write a function to process a large text and plot word frequency against word rank using pylab.plot. Do you confirm Zipf’s law? (Hint: it helps to use a logarithmic scale.) What is going on at the extreme ends of the plotted line?\n",
    "#### b. Generate random text, e.g., using random.choice(\"abcdefg \"), taking care to includethespacecharacter.Youwillneedtoimport randomfirst.Usethestring concatenation operator to accumulate characters into a (very) long string. Then tokenize this string, generate the Zipf plot as before, and compare the two plots. What do you make of Zipf’s Law in the light of this?"
   ]
  },
  {
   "cell_type": "code",
   "execution_count": 56,
   "id": "87942616",
   "metadata": {},
   "outputs": [
    {
     "data": {
      "image/png": "[encoded data removed]",
      "text/plain": [
       "<Figure size 1000x600 with 1 Axes>"
      ]
     },
     "metadata": {},
     "output_type": "display_data"
    },
    {
     "data": {
      "image/png": "[encoded data removed]",
      "text/plain": [
       "<Figure size 1000x600 with 1 Axes>"
      ]
     },
     "metadata": {},
     "output_type": "display_data"
    }
   ],
   "source": [
    "# answer\n",
    "\n",
    "def zipf_plot(text):\n",
    "    # here i tokenize the text....\n",
    "    words = nltk.word_tokenize(text)\n",
    "    \n",
    "    # here i calculate word frequencies....\n",
    "    word_f = nltk.FreqDist(words)\n",
    "    \n",
    "    # here i sort words by frequency.....\n",
    "    sorted_w = sorted(word_f.items(), key=lambda x: x[1], reverse=True)\n",
    "    \n",
    "    \n",
    "    ranks = np.arange(1, len(sorted_w) + 1)\n",
    "    freqs = [pair[1] for pair in sorted_w]\n",
    "    \n",
    "    # here i m Plotting Zipf's law....\n",
    "    plt.figure(figsize=(10, 6))\n",
    "    plt.plot(ranks, freqs)\n",
    "    plt.xscale('log')\n",
    "    plt.yscale('log')\n",
    "    plt.xlabel('Rank')\n",
    "    plt.ylabel('Frequency')\n",
    "    plt.title('Zipf\\'s Law Plot')\n",
    "    plt.grid(True)\n",
    "    plt.show()\n",
    "\n",
    "# here i generated random text.....\n",
    "def generate_random_text(length):\n",
    "    random_t = ''.join(random.choice(string.ascii_lowercase + ' ') for _ in range(length))\n",
    "    return random_t\n",
    "\n",
    "# Example text from book....\n",
    "text = \"We have seen that synsets are linked by a complex network of lexical relations. Given a particular synset, we can traverse the WordNet network to find synsets with related meanings. Knowing which words are semantically related is useful for indexing a col- lection of texts, so that a search for a general term such as vehicle will match documents containing specific terms such as limousine.\"\n",
    "zipf_plot(text)\n",
    "\n",
    "# here i generated random text and plot Zipf's law for it.....\n",
    "random_t = generate_random_text(10000)\n",
    "zipf_plot(random_t)\n"
   ]
  },
  {
   "cell_type": "markdown",
   "id": "2d950bc9",
   "metadata": {},
   "source": [
    "#### 8. Modify the text generation program in Example 2-1 further, to do the following tasks:\n",
    "#### a. Store the n most likely words in a list words, then randomly choose a word from the list using random.choice(). (You will need to import random first.)\n",
    "#### b. Select a particular genre, such as a section of the Brown Corpus or a Genesis translation, one of the Gutenberg texts, or one of the Web texts. Train the model on this corpus and get it to generate random text. You may have to experiment with different start words. How intelligible is the text? Discuss the strengths and weaknesses of this method of generating random text.\n",
    "#### c. Now train your system using two distinct genres and experiment with gener- ating text in the hybrid genre. Discuss your observations."
   ]
  },
  {
   "cell_type": "code",
   "execution_count": 57,
   "id": "21afc57a",
   "metadata": {},
   "outputs": [
    {
     "name": "stdout",
     "output_type": "stream",
     "text": [
      "living creature , every city of Moab , Set on your God make my people\n"
     ]
    }
   ],
   "source": [
    "# a\n",
    "\n",
    "def generate_model(cfdist, word, num=15):\n",
    "    words = []\n",
    "    for i in range(num):\n",
    "        words.append(word)\n",
    "        word = random.choice(list(cfdist[word].keys()))\n",
    "    return ' '.join(words)\n",
    "\n",
    "text = nltk.corpus.genesis.words('english-kjv.txt')\n",
    "bigrams = nltk.bigrams(text)\n",
    "cfd = nltk.ConditionalFreqDist(bigrams)\n",
    "\n",
    "print(generate_model(cfd, 'living'))\n"
   ]
  },
  {
   "cell_type": "code",
   "execution_count": 58,
   "id": "f0b14c5e",
   "metadata": {},
   "outputs": [
    {
     "name": "stdout",
     "output_type": "stream",
     "text": [
      "the Ogden , due next closest pro touch his collection closed her modern jet for\n"
     ]
    }
   ],
   "source": [
    "# b\n",
    "\n",
    "# here i have choosen a section of the Brown Corpus (e.g., news category)....\n",
    "brown_w = brown.words(categories='news')\n",
    "brown_b = nltk.bigrams(brown_w)\n",
    "brown_c = nltk.ConditionalFreqDist(brown_b)\n",
    "\n",
    "print(generate_model(brown_c, 'the'))\n"
   ]
  },
  {
   "cell_type": "code",
   "execution_count": 59,
   "id": "9c33b826",
   "metadata": {},
   "outputs": [
    {
     "name": "stdout",
     "output_type": "stream",
     "text": [
      "she called on me is next months , puffed at Longue Vue last lowered into\n"
     ]
    }
   ],
   "source": [
    "# c\n",
    "\n",
    "# here i have train the model on two distinct genres....\n",
    "fiction_w = brown.words(categories='fiction')\n",
    "fiction_b = nltk.bigrams(fiction_w)\n",
    "fiction_cfd = nltk.ConditionalFreqDist(fiction_b)\n",
    "\n",
    "romance_w = brown.words(categories='romance')\n",
    "romance_b = nltk.bigrams(romance_w)\n",
    "romance_cfd = nltk.ConditionalFreqDist(romance_b)\n",
    "\n",
    "# here i have generate text using the hybrid model.....\n",
    "\n",
    "hybrid_cfd = {}\n",
    "for word in set(fiction_w + romance_w):\n",
    "    hybrid_cfd[word] = fiction_cfd[word] + romance_cfd[word]\n",
    "\n",
    "print(generate_model(hybrid_cfd, 'she'))\n"
   ]
  },
  {
   "cell_type": "markdown",
   "id": "7cc247f1",
   "metadata": {},
   "source": [
    "#### 9. Define a function find_language() that takes a string as its argument and returns a list of languages that have that string as a word. Use the udhr corpus and limit your searches to files in the Latin-1 encoding."
   ]
  },
  {
   "cell_type": "code",
   "execution_count": 63,
   "id": "9fbcf6fb",
   "metadata": {},
   "outputs": [
    {
     "name": "stdout",
     "output_type": "stream",
     "text": [
      "LANGUAGES containing the WORD 'free':\n",
      "['English', 'NigerianPidginEnglish', 'TokPisin']\n"
     ]
    }
   ],
   "source": [
    "# answer\n",
    "\n",
    "def find_language(word):\n",
    "    languages = []\n",
    "    for fileid in nltk.corpus.udhr.fileids():\n",
    "        if fileid.endswith('-Latin1'):\n",
    "            words = nltk.corpus.udhr.words(fileid)\n",
    "            if word.lower() in words:\n",
    "                languages.append(fileid[:-7])  # here we can remove the '-Latin1' suffix.....\n",
    "    return languages\n",
    "\n",
    "# Example usage\n",
    "word = 'free'\n",
    "languages_with_w = find_language(word)\n",
    "print(f\"LANGUAGES containing the WORD '{word}':\")\n",
    "print(languages_with_w)\n"
   ]
  },
  {
   "cell_type": "markdown",
   "id": "dc9181ed",
   "metadata": {},
   "source": [
    "here is the explanation:\n",
    "\n",
    "- firstly we iterate through the fileids in the UDHR corpus.\n",
    "- then for each file encoded in Latin-1 (endswith('-Latin1')), we retrieve the words and check if the given word is present in it.\n",
    "- then if the word is found, we append the language (by removing the '-Latin1' suffix from the fileid) to the list of languages.\n",
    "- Finally, we return the list of languages containing the given word.\n"
   ]
  }
 ],
 "metadata": {
  "kernelspec": {
   "display_name": "Python 3 (ipykernel)",
   "language": "python",
   "name": "python3"
  },
  "language_info": {
   "codemirror_mode": {
    "name": "ipython",
    "version": 3
   },
   "file_extension": ".py",
   "mimetype": "text/x-python",
   "name": "python",
   "nbconvert_exporter": "python",
   "pygments_lexer": "ipython3",
   "version": "3.11.5"
  }
 },
 "nbformat": 4,
 "nbformat_minor": 5
}
